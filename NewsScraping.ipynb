{
  "cells": [
    {
      "cell_type": "markdown",
      "source": [
        "# **Text Scraping from Web**"
      ],
      "metadata": {
        "id": "d76TzRVi1eas"
      }
    },
    {
      "cell_type": "markdown",
      "source": [
        "# Part 1: Data Collection"
      ],
      "metadata": {
        "id": "8LwJlNk0MwNR"
      }
    },
    {
      "cell_type": "markdown",
      "source": [
        "## **Import Libraries**"
      ],
      "metadata": {
        "id": "ybb3j37z8JLt"
      }
    },
    {
      "cell_type": "code",
      "execution_count": null,
      "metadata": {
        "id": "nXEQZ8hUAkwg",
        "colab": {
          "base_uri": "https://localhost:8080/"
        },
        "outputId": "b2b9422a-ec4a-461c-dba8-e02119e57788"
      },
      "outputs": [
        {
          "output_type": "stream",
          "name": "stderr",
          "text": [
            "[nltk_data] Downloading package wordnet to /root/nltk_data...\n",
            "[nltk_data] Downloading package omw-1.4 to /root/nltk_data...\n",
            "[nltk_data] Downloading package stopwords to /root/nltk_data...\n",
            "[nltk_data]   Unzipping corpora/stopwords.zip.\n",
            "[nltk_data] Downloading package averaged_perceptron_tagger to\n",
            "[nltk_data]     /root/nltk_data...\n",
            "[nltk_data]   Unzipping taggers/averaged_perceptron_tagger.zip.\n",
            "[nltk_data] Downloading package maxent_ne_chunker to\n",
            "[nltk_data]     /root/nltk_data...\n",
            "[nltk_data]   Unzipping chunkers/maxent_ne_chunker.zip.\n",
            "[nltk_data] Downloading package words to /root/nltk_data...\n",
            "[nltk_data]   Unzipping corpora/words.zip.\n"
          ]
        }
      ],
      "source": [
        "import requests\n",
        "import time\n",
        "from bs4 import BeautifulSoup\n",
        "import pandas as pd\n",
        "import os\n",
        "import nltk\n",
        "nltk.download('wordnet')\n",
        "nltk.download('omw-1.4')\n",
        "nltk.download('stopwords')\n",
        "nltk.download('averaged_perceptron_tagger')\n",
        "nltk.download('maxent_ne_chunker')\n",
        "nltk.download('words')\n",
        "from tqdm import tqdm\n",
        "import re\n",
        "from sklearn.feature_extraction.text import TfidfTransformer, TfidfVectorizer, CountVectorizer\n",
        "from sklearn.model_selection import train_test_split, RandomizedSearchCV, GridSearchCV, cross_val_score\n",
        "from sklearn.metrics import classification_report, confusion_matrix, accuracy_score, roc_curve, auc\n",
        "import numpy as np\n",
        "from sklearn.ensemble import RandomForestClassifier, RandomForestRegressor\n",
        "import matplotlib.pyplot as plt\n",
        "import seaborn as sns\n",
        "from sklearn import metrics\n",
        "from sklearn.svm import SVC\n",
        "from sklearn.model_selection import RepeatedStratifiedKFold\n",
        "from sklearn.linear_model import LogisticRegression"
      ]
    },
    {
      "cell_type": "markdown",
      "source": [
        "มีการใช้ library ดังนี้\n",
        "\n",
        "*   requests สำหรับการดึงข้อมูลจาก url\n",
        "*   time สำหรับหยุดการทำงานของ code\n",
        "\n",
        "*   BeautifulSoup สำหรับการสกัดข้อมูลจาก html\n",
        "*   pandas สำหรับการจัดการข้อมูล \n",
        "\n",
        "*   os สำหรับการบันทึกข้อมูล\n",
        "\n",
        "\n",
        "\n",
        "\n",
        "\n",
        "\n"
      ],
      "metadata": {
        "id": "hcT7qcSEFN1p"
      }
    },
    {
      "cell_type": "markdown",
      "source": [
        "## **Make Directories**"
      ],
      "metadata": {
        "id": "MrFsQ-Cb8DYF"
      }
    },
    {
      "cell_type": "code",
      "source": [
        "# create directories\n",
        "os.makedirs(\"data/datastore\", exist_ok=True)\n",
        "os.makedirs(\"data/target\", exist_ok=True)"
      ],
      "metadata": {
        "id": "-4AzKzTdVJPB"
      },
      "execution_count": null,
      "outputs": []
    },
    {
      "cell_type": "markdown",
      "source": [
        "ใช้คำสั่ง makedirs จาก os เพื่อสร้าง folder ที่ชื่อ data และสร้าง subfolder 2 ส่วน ได้แก่\n",
        "\n",
        "\n",
        "1.   datastore จัดเก็บข้อมูลของพาดหัวบทความและเนื้อหา\n",
        "2.   target จัดเก็บข้อมูลของหมวดหมู่บทความ\n",
        "\n",
        "<img src=\"https://drive.google.com/uc?export=view&id=1PSmVbB9S1jbung8Z2wyd-mJ7BbuuUNro\" width=400>"
      ],
      "metadata": {
        "id": "53GxRe4vGNLx"
      }
    },
    {
      "cell_type": "markdown",
      "source": [
        "## **Web Request**\n",
        "\n"
      ],
      "metadata": {
        "id": "ssPqeci98s7t"
      }
    },
    {
      "cell_type": "code",
      "execution_count": null,
      "metadata": {
        "id": "1aFMqmgRAyu4"
      },
      "outputs": [],
      "source": [
        "# web request\n",
        "url = 'http://www.it.kmitl.ac.th/~teerapong/news_archive/index.html'\n",
        "res = requests.get(url)\n",
        "res.raise_for_status() # check error\n",
        "soup = BeautifulSoup(res.content.decode('utf-8'),'html.parser')\n",
        "time.sleep(1)"
      ]
    },
    {
      "cell_type": "markdown",
      "source": [
        "ดึงข้อมูลจาก www.it.kmitl.ac.th/~teerapong/news_archive/index.html ซึ่งเป็นเว็บที่จัดเก็บบทความต่าง ๆ ในปี 2017 ด้วย library requests โดยใช้คำสั่ง get และใช้ BeautifulSoup ในการดึงข้อมูลออกมาจาก html"
      ],
      "metadata": {
        "id": "GmtX5Y-2EkFO"
      }
    },
    {
      "cell_type": "markdown",
      "source": [
        "## **Extract Month Url**"
      ],
      "metadata": {
        "id": "GYbjDxraWuZK"
      }
    },
    {
      "cell_type": "code",
      "execution_count": null,
      "metadata": {
        "id": "VC5OhP0J2Rvs"
      },
      "outputs": [],
      "source": [
        "# extract month url\n",
        "get_month_url = [] # เก็บ url ของแต่ละเดือน\n",
        "\n",
        "for num in soup('a'): # loop tag a\n",
        "  # example num : <a href=\"month-jan-2017.html\">January</a>\n",
        "\n",
        "  month = num.get('href') # สกัดข้อความใน href\n",
        "  # example month : month-jan-2017.html\n",
        "\n",
        "  if month != '#':\n",
        "    get_month_url.append('http://www.it.kmitl.ac.th/~teerapong/news_archive/'+month) # เพ่ิม url ของแต่ละเดือนเข้าไปใน get_month_url\n",
        "\n",
        "time.sleep(1)"
      ]
    },
    {
      "cell_type": "code",
      "source": [
        "# ตัวอย่างข้อมูลใน get_month_url\n",
        "get_month_url[0:5]"
      ],
      "metadata": {
        "id": "kNI194sSIGXZ",
        "colab": {
          "base_uri": "https://localhost:8080/"
        },
        "outputId": "e5238517-4b45-4326-840c-69655670386a"
      },
      "execution_count": null,
      "outputs": [
        {
          "output_type": "execute_result",
          "data": {
            "text/plain": [
              "['http://www.it.kmitl.ac.th/~teerapong/news_archive/month-jan-2017.html',\n",
              " 'http://www.it.kmitl.ac.th/~teerapong/news_archive/month-feb-2017.html',\n",
              " 'http://www.it.kmitl.ac.th/~teerapong/news_archive/month-mar-2017.html',\n",
              " 'http://www.it.kmitl.ac.th/~teerapong/news_archive/month-apr-2017.html',\n",
              " 'http://www.it.kmitl.ac.th/~teerapong/news_archive/month-may-2017.html']"
            ]
          },
          "metadata": {},
          "execution_count": 5
        }
      ]
    },
    {
      "cell_type": "markdown",
      "source": [
        "เนื่องจากเว็บมีลักษณะแยกจัดเก็บบทความเป็นรายเดือนดังรูป\n",
        "\n",
        "<img src=\"https://drive.google.com/uc?export=view&id=1Le7caOnvmWgQjet9lPrcybHoI2_Reoi0\" width=\"500\">\n",
        "\n",
        "โดยในแต่ละเดือนนั้นจะมีการเปลี่ยน url ของส่วนเดือน เช่น\n",
        "\n",
        "เดือนมกราคม : http://www.it.kmitl.ac.th/~teerapong/news_archive/month-jan-2017.html\n",
        "\n",
        "เดือนกุมภาพันธ์ : http://www.it.kmitl.ac.th/~teerapong/news_archive/month-feb-2017.html\n",
        "\n",
        ".\n",
        "\n",
        "จึงใช้ loop ในการสกัด url ของทุกเดือนออกมาด้วยวิธีการดึง html และเลือก loop ใน *tag a*และใส่ข้อความไว้ใน list ที่ชื่อว่า get_month_url\n",
        "\n",
        "<img src=\"https://drive.google.com/uc?export=view&id=1NCEjnfVQLUx338ANA5eSZsEHOGdwxpxU\" width=\"200\">\n",
        "\n",
        "<img src=\"https://drive.google.com/uc?export=view&id=1DmCJM_IqQGJyRh0S7RzGTwHsCECrFZqZ\" width=\"300\">"
      ],
      "metadata": {
        "id": "oXv08xg7SSlY"
      }
    },
    {
      "cell_type": "markdown",
      "source": [
        "## **Extract Article Category**"
      ],
      "metadata": {
        "id": "EG8Mf-LuEXtr"
      }
    },
    {
      "cell_type": "code",
      "execution_count": null,
      "metadata": {
        "id": "Yc8r-ab5P1iK"
      },
      "outputs": [],
      "source": [
        "# extract article category\n",
        "get_category = [] # เก็บข้อมูลหมวดหมู่ข่าว\n",
        "\n",
        "for month in get_month_url:\n",
        "  res = requests.get(month)\n",
        "  soup = BeautifulSoup(res.content.decode('utf-8'),'html.parser')\n",
        "\n",
        "  for i in soup.select('.category'):\n",
        "    # example i : <td align=\"left\" class=\"category\"> technology</td>\n",
        "\n",
        "    text = i.string.strip()\n",
        "    # example text : technology\n",
        "\n",
        "    if text != \"N/A\":\n",
        "      get_category.append(text) # เพิ่ม text ที่ผ่านเงื่อนไขเข้าไปใน get_category\n",
        "\n",
        "time.sleep(1)"
      ]
    },
    {
      "cell_type": "markdown",
      "source": [
        "สกัดข้อมูลของ category ที่มีอยู่ทั้งหมดในเดือนนั้น ๆ\n",
        "\n",
        "<img src=\"https://drive.google.com/uc?export=view&id=11JrUkBxJFeSHyhTYAIxxv-L6uk3d3HJQ\" width=600>\n",
        "\n",
        "โดยการ loop ใน *class category* ของทุกบทความ\n",
        "\n",
        "<img src=\"https://drive.google.com/uc?export=view&id=1SI53ncYsTK8JwXMqGBrHE_tEqu6sLpNF\" width=500>\n",
        "\n",
        ".\n",
        "\n",
        "<img src=\"https://drive.google.com/uc?export=view&id=1evLZNIp5fTcP5gqPmOck0ZGVCe1NyiAV\" width=200>\n",
        "\n",
        "มีเงื่อนไขดังนี้\n",
        "\n",
        "1. ค่าที่ได้จะต้องไม่ใช่ N/A\n",
        "\n",
        "<img src=\"https://drive.google.com/uc?export=view&id=1CZEljcwyhJxCHthLkUgmxSycKc-QeDiA\" width=400>\n",
        "\n",
        "จากนั้นเก็บ category ทั้งหมดไว้ใน list ที่ชื่อว่า get_category"
      ],
      "metadata": {
        "id": "WqdcusHjYOVs"
      }
    },
    {
      "cell_type": "code",
      "execution_count": null,
      "metadata": {
        "id": "-u1yrcLvQYHP",
        "colab": {
          "base_uri": "https://localhost:8080/"
        },
        "outputId": "e38d5d2d-fc52-48d1-af5d-8ad8a5f3c09b"
      },
      "outputs": [
        {
          "output_type": "execute_result",
          "data": {
            "text/plain": [
              "        category\n",
              "0     technology\n",
              "1       business\n",
              "2     technology\n",
              "3       business\n",
              "4          sport\n",
              "...          ...\n",
              "1403       sport\n",
              "1404    business\n",
              "1405    business\n",
              "1406    business\n",
              "1407       sport\n",
              "\n",
              "[1408 rows x 1 columns]"
            ],
            "text/html": [
              "\n",
              "  <div id=\"df-56d5aae7-db38-48dd-9ea5-305ffb291c49\">\n",
              "    <div class=\"colab-df-container\">\n",
              "      <div>\n",
              "<style scoped>\n",
              "    .dataframe tbody tr th:only-of-type {\n",
              "        vertical-align: middle;\n",
              "    }\n",
              "\n",
              "    .dataframe tbody tr th {\n",
              "        vertical-align: top;\n",
              "    }\n",
              "\n",
              "    .dataframe thead th {\n",
              "        text-align: right;\n",
              "    }\n",
              "</style>\n",
              "<table border=\"1\" class=\"dataframe\">\n",
              "  <thead>\n",
              "    <tr style=\"text-align: right;\">\n",
              "      <th></th>\n",
              "      <th>category</th>\n",
              "    </tr>\n",
              "  </thead>\n",
              "  <tbody>\n",
              "    <tr>\n",
              "      <th>0</th>\n",
              "      <td>technology</td>\n",
              "    </tr>\n",
              "    <tr>\n",
              "      <th>1</th>\n",
              "      <td>business</td>\n",
              "    </tr>\n",
              "    <tr>\n",
              "      <th>2</th>\n",
              "      <td>technology</td>\n",
              "    </tr>\n",
              "    <tr>\n",
              "      <th>3</th>\n",
              "      <td>business</td>\n",
              "    </tr>\n",
              "    <tr>\n",
              "      <th>4</th>\n",
              "      <td>sport</td>\n",
              "    </tr>\n",
              "    <tr>\n",
              "      <th>...</th>\n",
              "      <td>...</td>\n",
              "    </tr>\n",
              "    <tr>\n",
              "      <th>1403</th>\n",
              "      <td>sport</td>\n",
              "    </tr>\n",
              "    <tr>\n",
              "      <th>1404</th>\n",
              "      <td>business</td>\n",
              "    </tr>\n",
              "    <tr>\n",
              "      <th>1405</th>\n",
              "      <td>business</td>\n",
              "    </tr>\n",
              "    <tr>\n",
              "      <th>1406</th>\n",
              "      <td>business</td>\n",
              "    </tr>\n",
              "    <tr>\n",
              "      <th>1407</th>\n",
              "      <td>sport</td>\n",
              "    </tr>\n",
              "  </tbody>\n",
              "</table>\n",
              "<p>1408 rows × 1 columns</p>\n",
              "</div>\n",
              "      <button class=\"colab-df-convert\" onclick=\"convertToInteractive('df-56d5aae7-db38-48dd-9ea5-305ffb291c49')\"\n",
              "              title=\"Convert this dataframe to an interactive table.\"\n",
              "              style=\"display:none;\">\n",
              "        \n",
              "  <svg xmlns=\"http://www.w3.org/2000/svg\" height=\"24px\"viewBox=\"0 0 24 24\"\n",
              "       width=\"24px\">\n",
              "    <path d=\"M0 0h24v24H0V0z\" fill=\"none\"/>\n",
              "    <path d=\"M18.56 5.44l.94 2.06.94-2.06 2.06-.94-2.06-.94-.94-2.06-.94 2.06-2.06.94zm-11 1L8.5 8.5l.94-2.06 2.06-.94-2.06-.94L8.5 2.5l-.94 2.06-2.06.94zm10 10l.94 2.06.94-2.06 2.06-.94-2.06-.94-.94-2.06-.94 2.06-2.06.94z\"/><path d=\"M17.41 7.96l-1.37-1.37c-.4-.4-.92-.59-1.43-.59-.52 0-1.04.2-1.43.59L10.3 9.45l-7.72 7.72c-.78.78-.78 2.05 0 2.83L4 21.41c.39.39.9.59 1.41.59.51 0 1.02-.2 1.41-.59l7.78-7.78 2.81-2.81c.8-.78.8-2.07 0-2.86zM5.41 20L4 18.59l7.72-7.72 1.47 1.35L5.41 20z\"/>\n",
              "  </svg>\n",
              "      </button>\n",
              "      \n",
              "  <style>\n",
              "    .colab-df-container {\n",
              "      display:flex;\n",
              "      flex-wrap:wrap;\n",
              "      gap: 12px;\n",
              "    }\n",
              "\n",
              "    .colab-df-convert {\n",
              "      background-color: #E8F0FE;\n",
              "      border: none;\n",
              "      border-radius: 50%;\n",
              "      cursor: pointer;\n",
              "      display: none;\n",
              "      fill: #1967D2;\n",
              "      height: 32px;\n",
              "      padding: 0 0 0 0;\n",
              "      width: 32px;\n",
              "    }\n",
              "\n",
              "    .colab-df-convert:hover {\n",
              "      background-color: #E2EBFA;\n",
              "      box-shadow: 0px 1px 2px rgba(60, 64, 67, 0.3), 0px 1px 3px 1px rgba(60, 64, 67, 0.15);\n",
              "      fill: #174EA6;\n",
              "    }\n",
              "\n",
              "    [theme=dark] .colab-df-convert {\n",
              "      background-color: #3B4455;\n",
              "      fill: #D2E3FC;\n",
              "    }\n",
              "\n",
              "    [theme=dark] .colab-df-convert:hover {\n",
              "      background-color: #434B5C;\n",
              "      box-shadow: 0px 1px 3px 1px rgba(0, 0, 0, 0.15);\n",
              "      filter: drop-shadow(0px 1px 2px rgba(0, 0, 0, 0.3));\n",
              "      fill: #FFFFFF;\n",
              "    }\n",
              "  </style>\n",
              "\n",
              "      <script>\n",
              "        const buttonEl =\n",
              "          document.querySelector('#df-56d5aae7-db38-48dd-9ea5-305ffb291c49 button.colab-df-convert');\n",
              "        buttonEl.style.display =\n",
              "          google.colab.kernel.accessAllowed ? 'block' : 'none';\n",
              "\n",
              "        async function convertToInteractive(key) {\n",
              "          const element = document.querySelector('#df-56d5aae7-db38-48dd-9ea5-305ffb291c49');\n",
              "          const dataTable =\n",
              "            await google.colab.kernel.invokeFunction('convertToInteractive',\n",
              "                                                     [key], {});\n",
              "          if (!dataTable) return;\n",
              "\n",
              "          const docLinkHtml = 'Like what you see? Visit the ' +\n",
              "            '<a target=\"_blank\" href=https://colab.research.google.com/notebooks/data_table.ipynb>data table notebook</a>'\n",
              "            + ' to learn more about interactive tables.';\n",
              "          element.innerHTML = '';\n",
              "          dataTable['output_type'] = 'display_data';\n",
              "          await google.colab.output.renderOutput(dataTable, element);\n",
              "          const docLink = document.createElement('div');\n",
              "          docLink.innerHTML = docLinkHtml;\n",
              "          element.appendChild(docLink);\n",
              "        }\n",
              "      </script>\n",
              "    </div>\n",
              "  </div>\n",
              "  "
            ]
          },
          "metadata": {},
          "execution_count": 7
        }
      ],
      "source": [
        "# create category dataframe\n",
        "category = pd.DataFrame(get_category, columns=['category'])\n",
        "category"
      ]
    },
    {
      "cell_type": "markdown",
      "source": [
        "นำข้อมูลจาก get_category เก็บลงใน dataframe ที่ชื่อว่า category"
      ],
      "metadata": {
        "id": "04j0hWcKEKF0"
      }
    },
    {
      "cell_type": "markdown",
      "source": [
        "## **Extract Title**"
      ],
      "metadata": {
        "id": "kKAYWZruEgLu"
      }
    },
    {
      "cell_type": "code",
      "source": [
        "# extract title\n",
        "get_title = [] # เก็บข้อมูลพาดหัวข่าว\n",
        "\n",
        "for title in get_month_url:\n",
        "  res = requests.get(title)\n",
        "  soup = BeautifulSoup(res.content.decode('utf-8'),'html.parser')\n",
        "  for i in soup.select('td.title > a'):\n",
        "    # example i : <a href=\"article-jan-0418.html\">21st-Century Sports: How Digital Technology Is Changing the Face Of The Sporting Industry</a>\n",
        "\n",
        "    text = i.text.strip()\n",
        "    # example text : 21st-Century Sports: How Digital Technology Is Changing the Face Of The Sporting Industry\n",
        "\n",
        "    get_title.append(text) # เพิ่ม text เข้าไปใน get_title\n",
        "\n",
        "time.sleep(1)"
      ],
      "metadata": {
        "id": "kJ-AqDaVbtAu"
      },
      "execution_count": null,
      "outputs": []
    },
    {
      "cell_type": "markdown",
      "source": [
        "เก็บข้อมูลพาดหัวข่าวทั้งหมดในหน้ารวมบทความของเดือนนั้น ๆ\n",
        "\n",
        "<img src=\"https://drive.google.com/uc?export=view&id=1EvwaD-z6DtKRk3uN0kKj84pgEQNu6pPa\" width=600>\n",
        "\n",
        "โดยการ loop ใน *td.title > a* และเก็บพาดหัวข่าวทั้งหมดไว้ใน list ที่ชื่อว่า get_title\n",
        "\n",
        "<img src=\"https://drive.google.com/uc?export=view&id=1c8yPZUufcYbsGiIGgiJU_PwJEEc-YsNJ\" width=600>\n",
        "\n"
      ],
      "metadata": {
        "id": "rVu4UAMqdBn9"
      }
    },
    {
      "cell_type": "code",
      "source": [
        "# create title dataframe\n",
        "title = pd.DataFrame(get_title, columns=['title'])\n",
        "title"
      ],
      "metadata": {
        "id": "Ir2mEiPme_KV",
        "colab": {
          "base_uri": "https://localhost:8080/"
        },
        "outputId": "e5dd70e0-4926-4fe4-8344-8f6774e49ef0"
      },
      "execution_count": null,
      "outputs": [
        {
          "output_type": "execute_result",
          "data": {
            "text/plain": [
              "                                                  title\n",
              "0     21st-Century Sports: How Digital Technology Is...\n",
              "1                      Asian quake hits European shares\n",
              "2                        BT offers free net phone calls\n",
              "3                     Barclays shares up on merger talk\n",
              "4                      Barkley fit for match in Ireland\n",
              "...                                                 ...\n",
              "1403                    Woodward eyes Brennan for Lions\n",
              "1404                  WorldCom trial starts in New York\n",
              "1405                    Yukos accused of lying to court\n",
              "1406                   Yukos drops banks from court bid\n",
              "1407                      Zambia confident and cautious\n",
              "\n",
              "[1408 rows x 1 columns]"
            ],
            "text/html": [
              "\n",
              "  <div id=\"df-03e4bda5-6099-4e1c-b572-6be8fc5a83e0\">\n",
              "    <div class=\"colab-df-container\">\n",
              "      <div>\n",
              "<style scoped>\n",
              "    .dataframe tbody tr th:only-of-type {\n",
              "        vertical-align: middle;\n",
              "    }\n",
              "\n",
              "    .dataframe tbody tr th {\n",
              "        vertical-align: top;\n",
              "    }\n",
              "\n",
              "    .dataframe thead th {\n",
              "        text-align: right;\n",
              "    }\n",
              "</style>\n",
              "<table border=\"1\" class=\"dataframe\">\n",
              "  <thead>\n",
              "    <tr style=\"text-align: right;\">\n",
              "      <th></th>\n",
              "      <th>title</th>\n",
              "    </tr>\n",
              "  </thead>\n",
              "  <tbody>\n",
              "    <tr>\n",
              "      <th>0</th>\n",
              "      <td>21st-Century Sports: How Digital Technology Is...</td>\n",
              "    </tr>\n",
              "    <tr>\n",
              "      <th>1</th>\n",
              "      <td>Asian quake hits European shares</td>\n",
              "    </tr>\n",
              "    <tr>\n",
              "      <th>2</th>\n",
              "      <td>BT offers free net phone calls</td>\n",
              "    </tr>\n",
              "    <tr>\n",
              "      <th>3</th>\n",
              "      <td>Barclays shares up on merger talk</td>\n",
              "    </tr>\n",
              "    <tr>\n",
              "      <th>4</th>\n",
              "      <td>Barkley fit for match in Ireland</td>\n",
              "    </tr>\n",
              "    <tr>\n",
              "      <th>...</th>\n",
              "      <td>...</td>\n",
              "    </tr>\n",
              "    <tr>\n",
              "      <th>1403</th>\n",
              "      <td>Woodward eyes Brennan for Lions</td>\n",
              "    </tr>\n",
              "    <tr>\n",
              "      <th>1404</th>\n",
              "      <td>WorldCom trial starts in New York</td>\n",
              "    </tr>\n",
              "    <tr>\n",
              "      <th>1405</th>\n",
              "      <td>Yukos accused of lying to court</td>\n",
              "    </tr>\n",
              "    <tr>\n",
              "      <th>1406</th>\n",
              "      <td>Yukos drops banks from court bid</td>\n",
              "    </tr>\n",
              "    <tr>\n",
              "      <th>1407</th>\n",
              "      <td>Zambia confident and cautious</td>\n",
              "    </tr>\n",
              "  </tbody>\n",
              "</table>\n",
              "<p>1408 rows × 1 columns</p>\n",
              "</div>\n",
              "      <button class=\"colab-df-convert\" onclick=\"convertToInteractive('df-03e4bda5-6099-4e1c-b572-6be8fc5a83e0')\"\n",
              "              title=\"Convert this dataframe to an interactive table.\"\n",
              "              style=\"display:none;\">\n",
              "        \n",
              "  <svg xmlns=\"http://www.w3.org/2000/svg\" height=\"24px\"viewBox=\"0 0 24 24\"\n",
              "       width=\"24px\">\n",
              "    <path d=\"M0 0h24v24H0V0z\" fill=\"none\"/>\n",
              "    <path d=\"M18.56 5.44l.94 2.06.94-2.06 2.06-.94-2.06-.94-.94-2.06-.94 2.06-2.06.94zm-11 1L8.5 8.5l.94-2.06 2.06-.94-2.06-.94L8.5 2.5l-.94 2.06-2.06.94zm10 10l.94 2.06.94-2.06 2.06-.94-2.06-.94-.94-2.06-.94 2.06-2.06.94z\"/><path d=\"M17.41 7.96l-1.37-1.37c-.4-.4-.92-.59-1.43-.59-.52 0-1.04.2-1.43.59L10.3 9.45l-7.72 7.72c-.78.78-.78 2.05 0 2.83L4 21.41c.39.39.9.59 1.41.59.51 0 1.02-.2 1.41-.59l7.78-7.78 2.81-2.81c.8-.78.8-2.07 0-2.86zM5.41 20L4 18.59l7.72-7.72 1.47 1.35L5.41 20z\"/>\n",
              "  </svg>\n",
              "      </button>\n",
              "      \n",
              "  <style>\n",
              "    .colab-df-container {\n",
              "      display:flex;\n",
              "      flex-wrap:wrap;\n",
              "      gap: 12px;\n",
              "    }\n",
              "\n",
              "    .colab-df-convert {\n",
              "      background-color: #E8F0FE;\n",
              "      border: none;\n",
              "      border-radius: 50%;\n",
              "      cursor: pointer;\n",
              "      display: none;\n",
              "      fill: #1967D2;\n",
              "      height: 32px;\n",
              "      padding: 0 0 0 0;\n",
              "      width: 32px;\n",
              "    }\n",
              "\n",
              "    .colab-df-convert:hover {\n",
              "      background-color: #E2EBFA;\n",
              "      box-shadow: 0px 1px 2px rgba(60, 64, 67, 0.3), 0px 1px 3px 1px rgba(60, 64, 67, 0.15);\n",
              "      fill: #174EA6;\n",
              "    }\n",
              "\n",
              "    [theme=dark] .colab-df-convert {\n",
              "      background-color: #3B4455;\n",
              "      fill: #D2E3FC;\n",
              "    }\n",
              "\n",
              "    [theme=dark] .colab-df-convert:hover {\n",
              "      background-color: #434B5C;\n",
              "      box-shadow: 0px 1px 3px 1px rgba(0, 0, 0, 0.15);\n",
              "      filter: drop-shadow(0px 1px 2px rgba(0, 0, 0, 0.3));\n",
              "      fill: #FFFFFF;\n",
              "    }\n",
              "  </style>\n",
              "\n",
              "      <script>\n",
              "        const buttonEl =\n",
              "          document.querySelector('#df-03e4bda5-6099-4e1c-b572-6be8fc5a83e0 button.colab-df-convert');\n",
              "        buttonEl.style.display =\n",
              "          google.colab.kernel.accessAllowed ? 'block' : 'none';\n",
              "\n",
              "        async function convertToInteractive(key) {\n",
              "          const element = document.querySelector('#df-03e4bda5-6099-4e1c-b572-6be8fc5a83e0');\n",
              "          const dataTable =\n",
              "            await google.colab.kernel.invokeFunction('convertToInteractive',\n",
              "                                                     [key], {});\n",
              "          if (!dataTable) return;\n",
              "\n",
              "          const docLinkHtml = 'Like what you see? Visit the ' +\n",
              "            '<a target=\"_blank\" href=https://colab.research.google.com/notebooks/data_table.ipynb>data table notebook</a>'\n",
              "            + ' to learn more about interactive tables.';\n",
              "          element.innerHTML = '';\n",
              "          dataTable['output_type'] = 'display_data';\n",
              "          await google.colab.output.renderOutput(dataTable, element);\n",
              "          const docLink = document.createElement('div');\n",
              "          docLink.innerHTML = docLinkHtml;\n",
              "          element.appendChild(docLink);\n",
              "        }\n",
              "      </script>\n",
              "    </div>\n",
              "  </div>\n",
              "  "
            ]
          },
          "metadata": {},
          "execution_count": 9
        }
      ]
    },
    {
      "cell_type": "markdown",
      "source": [
        "นำข้อมูลจาก get_title เก็บลงใน dataframe ที่ชื่อ title"
      ],
      "metadata": {
        "id": "JYJn6U6QHVBH"
      }
    },
    {
      "cell_type": "markdown",
      "source": [
        "## **Extract Article Url**"
      ],
      "metadata": {
        "id": "b6fbOV9AElCX"
      }
    },
    {
      "cell_type": "code",
      "execution_count": null,
      "metadata": {
        "id": "IjzAYrC_Y1gt"
      },
      "outputs": [],
      "source": [
        "# extract article url\n",
        "get_article_url = [] # เก็บ url ของแต่ละบทความ\n",
        "\n",
        "for month in get_month_url:\n",
        "  res = requests.get(month)\n",
        "  soup = BeautifulSoup(res.content.decode('utf-8'),'html.parser')\n",
        "\n",
        "  for i in soup.select('.title > a'):\n",
        "    text = i.get('href')\n",
        "    get_article_url.append('http://www.it.kmitl.ac.th/~teerapong/news_archive/'+text)\n",
        "    \n",
        "time.sleep(1)"
      ]
    },
    {
      "cell_type": "code",
      "source": [
        "# ตัวอย่างข้อมูลใน get_article_url\n",
        "get_article_url[0:5]"
      ],
      "metadata": {
        "id": "k8ucarwBH7jS",
        "colab": {
          "base_uri": "https://localhost:8080/"
        },
        "outputId": "665f92ff-4f0c-49f7-ff4d-936a8cc0f071"
      },
      "execution_count": null,
      "outputs": [
        {
          "output_type": "execute_result",
          "data": {
            "text/plain": [
              "['http://www.it.kmitl.ac.th/~teerapong/news_archive/article-jan-0418.html',\n",
              " 'http://www.it.kmitl.ac.th/~teerapong/news_archive/article-jan-0027.html',\n",
              " 'http://www.it.kmitl.ac.th/~teerapong/news_archive/article-jan-0631.html',\n",
              " 'http://www.it.kmitl.ac.th/~teerapong/news_archive/article-jan-2105.html',\n",
              " 'http://www.it.kmitl.ac.th/~teerapong/news_archive/article-jan-3300.html']"
            ]
          },
          "metadata": {},
          "execution_count": 11
        }
      ]
    },
    {
      "cell_type": "markdown",
      "source": [
        "ดึง url ทุกบทความ โดยใช้ BeautifulSoup ในการดึงข้อมูลออกมาจาก html โดยการ loop ใน *.title > a* \n",
        "\n",
        "<img src=\"https://drive.google.com/uc?export=view&id=1hJxa6DjtkFpRX_8L56J-grLoskMem38K\" width=600>\n",
        "\n",
        "หลังจากได้ข้อความภายใน href จึงนำไปต่อกับ http://www.it.kmitl.ac.th/~teerapong/news_archive/ และเก็บ url ของทุกบทความลงใน list ที่มีชื่อว่า get_article_url\n",
        "\n"
      ],
      "metadata": {
        "id": "5kvhsdgMPoqd"
      }
    },
    {
      "cell_type": "markdown",
      "source": [
        "## **Extract Article Content**"
      ],
      "metadata": {
        "id": "8SUl6KvxgAOb"
      }
    },
    {
      "cell_type": "code",
      "execution_count": null,
      "metadata": {
        "id": "YhB1CDiU5moB"
      },
      "outputs": [],
      "source": [
        "# extract article content\n",
        "exclude = ['Comments are closed for this article.','Return to article search results'] \n",
        "get_content = [] # เก็บเนื้อหาข่าว\n",
        "\n",
        "\n",
        "for article in get_article_url:\n",
        "  res = requests.get(article)\n",
        "  soup = BeautifulSoup(res.content.decode('utf-8'),'html.parser')\n",
        "  staging = ''\n",
        "\n",
        "  for content in soup.select('p'):\n",
        "    if (content.text in get_title) or (content.text in exclude):\n",
        "      pass\n",
        "    elif content.text == '':\n",
        "      staging = staging + ' '\n",
        "    else:\n",
        "      text = content.text\n",
        "      staging = staging+text\n",
        "  get_content.append(staging.strip())\n",
        "time.sleep(1)"
      ]
    },
    {
      "cell_type": "markdown",
      "source": [
        "<img src=\"https://drive.google.com/uc?export=view&id=1T5s0MhlEp6WNpMItnNVYY8Wcv4PVGfk7\" width=800>\n",
        "\n",
        "สกัดเนื้อหาบทความโดย loop ใน get_article_url จะได้เป็น url ของแต่ละบทความ โดยใช้ BeautifulSoup ในการดึงข้อมูลจาก html จากนั้น loop tag p และสร้าง staging เป็น string เปล่าสำหรับการรวมข้อความจากหลาย tag p ให้อยู่ใน text เดียวกัน โดยมีเงื่อนไขดังนี้\n",
        "\n",
        "1. กรณีที่ข้อความเป็นพาดหัวเรื่องหรือเป็นข้อความใน exclude ให้ผ่าน\n",
        "2. กรณีที่ข้อความเป็น tag p เปล่าๆ จะเพิ่มช่องว่างเข้าไปใน staging\n",
        "3. กรณีที่ข้อความเป็น tag p ปกติ จะเพิ่มข้อความเข้าไปใน staging\n",
        "\n",
        "หลังจากนั้นจะเพิ่ม staging เข้าใน list ที่มีชื่อว่า get_content และในกรณีที่มีช่องว่างหน้าและหลังข้อความจะตัดช่องว่างนั้นออกก่อนด้วยฟังก์ชัน strip()"
      ],
      "metadata": {
        "id": "b3LxT0acg7N8"
      }
    },
    {
      "cell_type": "code",
      "source": [
        "content = pd.DataFrame(get_content, columns=['content'])\n",
        "content"
      ],
      "metadata": {
        "id": "IRPlRpHYXEFv",
        "colab": {
          "base_uri": "https://localhost:8080/"
        },
        "outputId": "b6e55bf2-1c1a-4774-95fb-06f1a1ed8c87"
      },
      "execution_count": null,
      "outputs": [
        {
          "output_type": "execute_result",
          "data": {
            "text/plain": [
              "                                                content\n",
              "0     The sporting industry has come a long way sinc...\n",
              "1     Shares in Europe's leading reinsurers and trav...\n",
              "2     BT is offering customers free internet telepho...\n",
              "3     Shares in UK banking group Barclays have risen...\n",
              "4     England centre Olly Barkley has been passed fi...\n",
              "...                                                 ...\n",
              "1403  Toulouse's former Irish international Trevor B...\n",
              "1404  The trial of Bernie Ebbers, former chief execu...\n",
              "1405  Russian oil firm Yukos lied to a US court in a...\n",
              "1406  Russian oil company Yukos has dropped the thre...\n",
              "1407  Zambia's technical director, Kalusha Bwalya is...\n",
              "\n",
              "[1408 rows x 1 columns]"
            ],
            "text/html": [
              "\n",
              "  <div id=\"df-8f92bb40-c817-4583-bb32-902c79bf8368\">\n",
              "    <div class=\"colab-df-container\">\n",
              "      <div>\n",
              "<style scoped>\n",
              "    .dataframe tbody tr th:only-of-type {\n",
              "        vertical-align: middle;\n",
              "    }\n",
              "\n",
              "    .dataframe tbody tr th {\n",
              "        vertical-align: top;\n",
              "    }\n",
              "\n",
              "    .dataframe thead th {\n",
              "        text-align: right;\n",
              "    }\n",
              "</style>\n",
              "<table border=\"1\" class=\"dataframe\">\n",
              "  <thead>\n",
              "    <tr style=\"text-align: right;\">\n",
              "      <th></th>\n",
              "      <th>content</th>\n",
              "    </tr>\n",
              "  </thead>\n",
              "  <tbody>\n",
              "    <tr>\n",
              "      <th>0</th>\n",
              "      <td>The sporting industry has come a long way sinc...</td>\n",
              "    </tr>\n",
              "    <tr>\n",
              "      <th>1</th>\n",
              "      <td>Shares in Europe's leading reinsurers and trav...</td>\n",
              "    </tr>\n",
              "    <tr>\n",
              "      <th>2</th>\n",
              "      <td>BT is offering customers free internet telepho...</td>\n",
              "    </tr>\n",
              "    <tr>\n",
              "      <th>3</th>\n",
              "      <td>Shares in UK banking group Barclays have risen...</td>\n",
              "    </tr>\n",
              "    <tr>\n",
              "      <th>4</th>\n",
              "      <td>England centre Olly Barkley has been passed fi...</td>\n",
              "    </tr>\n",
              "    <tr>\n",
              "      <th>...</th>\n",
              "      <td>...</td>\n",
              "    </tr>\n",
              "    <tr>\n",
              "      <th>1403</th>\n",
              "      <td>Toulouse's former Irish international Trevor B...</td>\n",
              "    </tr>\n",
              "    <tr>\n",
              "      <th>1404</th>\n",
              "      <td>The trial of Bernie Ebbers, former chief execu...</td>\n",
              "    </tr>\n",
              "    <tr>\n",
              "      <th>1405</th>\n",
              "      <td>Russian oil firm Yukos lied to a US court in a...</td>\n",
              "    </tr>\n",
              "    <tr>\n",
              "      <th>1406</th>\n",
              "      <td>Russian oil company Yukos has dropped the thre...</td>\n",
              "    </tr>\n",
              "    <tr>\n",
              "      <th>1407</th>\n",
              "      <td>Zambia's technical director, Kalusha Bwalya is...</td>\n",
              "    </tr>\n",
              "  </tbody>\n",
              "</table>\n",
              "<p>1408 rows × 1 columns</p>\n",
              "</div>\n",
              "      <button class=\"colab-df-convert\" onclick=\"convertToInteractive('df-8f92bb40-c817-4583-bb32-902c79bf8368')\"\n",
              "              title=\"Convert this dataframe to an interactive table.\"\n",
              "              style=\"display:none;\">\n",
              "        \n",
              "  <svg xmlns=\"http://www.w3.org/2000/svg\" height=\"24px\"viewBox=\"0 0 24 24\"\n",
              "       width=\"24px\">\n",
              "    <path d=\"M0 0h24v24H0V0z\" fill=\"none\"/>\n",
              "    <path d=\"M18.56 5.44l.94 2.06.94-2.06 2.06-.94-2.06-.94-.94-2.06-.94 2.06-2.06.94zm-11 1L8.5 8.5l.94-2.06 2.06-.94-2.06-.94L8.5 2.5l-.94 2.06-2.06.94zm10 10l.94 2.06.94-2.06 2.06-.94-2.06-.94-.94-2.06-.94 2.06-2.06.94z\"/><path d=\"M17.41 7.96l-1.37-1.37c-.4-.4-.92-.59-1.43-.59-.52 0-1.04.2-1.43.59L10.3 9.45l-7.72 7.72c-.78.78-.78 2.05 0 2.83L4 21.41c.39.39.9.59 1.41.59.51 0 1.02-.2 1.41-.59l7.78-7.78 2.81-2.81c.8-.78.8-2.07 0-2.86zM5.41 20L4 18.59l7.72-7.72 1.47 1.35L5.41 20z\"/>\n",
              "  </svg>\n",
              "      </button>\n",
              "      \n",
              "  <style>\n",
              "    .colab-df-container {\n",
              "      display:flex;\n",
              "      flex-wrap:wrap;\n",
              "      gap: 12px;\n",
              "    }\n",
              "\n",
              "    .colab-df-convert {\n",
              "      background-color: #E8F0FE;\n",
              "      border: none;\n",
              "      border-radius: 50%;\n",
              "      cursor: pointer;\n",
              "      display: none;\n",
              "      fill: #1967D2;\n",
              "      height: 32px;\n",
              "      padding: 0 0 0 0;\n",
              "      width: 32px;\n",
              "    }\n",
              "\n",
              "    .colab-df-convert:hover {\n",
              "      background-color: #E2EBFA;\n",
              "      box-shadow: 0px 1px 2px rgba(60, 64, 67, 0.3), 0px 1px 3px 1px rgba(60, 64, 67, 0.15);\n",
              "      fill: #174EA6;\n",
              "    }\n",
              "\n",
              "    [theme=dark] .colab-df-convert {\n",
              "      background-color: #3B4455;\n",
              "      fill: #D2E3FC;\n",
              "    }\n",
              "\n",
              "    [theme=dark] .colab-df-convert:hover {\n",
              "      background-color: #434B5C;\n",
              "      box-shadow: 0px 1px 3px 1px rgba(0, 0, 0, 0.15);\n",
              "      filter: drop-shadow(0px 1px 2px rgba(0, 0, 0, 0.3));\n",
              "      fill: #FFFFFF;\n",
              "    }\n",
              "  </style>\n",
              "\n",
              "      <script>\n",
              "        const buttonEl =\n",
              "          document.querySelector('#df-8f92bb40-c817-4583-bb32-902c79bf8368 button.colab-df-convert');\n",
              "        buttonEl.style.display =\n",
              "          google.colab.kernel.accessAllowed ? 'block' : 'none';\n",
              "\n",
              "        async function convertToInteractive(key) {\n",
              "          const element = document.querySelector('#df-8f92bb40-c817-4583-bb32-902c79bf8368');\n",
              "          const dataTable =\n",
              "            await google.colab.kernel.invokeFunction('convertToInteractive',\n",
              "                                                     [key], {});\n",
              "          if (!dataTable) return;\n",
              "\n",
              "          const docLinkHtml = 'Like what you see? Visit the ' +\n",
              "            '<a target=\"_blank\" href=https://colab.research.google.com/notebooks/data_table.ipynb>data table notebook</a>'\n",
              "            + ' to learn more about interactive tables.';\n",
              "          element.innerHTML = '';\n",
              "          dataTable['output_type'] = 'display_data';\n",
              "          await google.colab.output.renderOutput(dataTable, element);\n",
              "          const docLink = document.createElement('div');\n",
              "          docLink.innerHTML = docLinkHtml;\n",
              "          element.appendChild(docLink);\n",
              "        }\n",
              "      </script>\n",
              "    </div>\n",
              "  </div>\n",
              "  "
            ]
          },
          "metadata": {},
          "execution_count": 13
        }
      ]
    },
    {
      "cell_type": "markdown",
      "source": [
        "นำข้อมูลจาก get_content เก็บลงใน dataframe ที่ชื่อ content"
      ],
      "metadata": {
        "id": "qPHFAm4JHpeu"
      }
    },
    {
      "cell_type": "markdown",
      "source": [
        "## **Combine Article Title + Content**"
      ],
      "metadata": {
        "id": "mP1KhlNWiky6"
      }
    },
    {
      "cell_type": "code",
      "source": [
        "# combine article title and content into the same row\n",
        "merge = title['title']+' '+content['content']\n",
        "get_titlepluscontent = merge.values.tolist()"
      ],
      "metadata": {
        "id": "qV8SbP_TWhn_"
      },
      "execution_count": null,
      "outputs": []
    },
    {
      "cell_type": "code",
      "source": [
        "# ตัวอย่างข้อมูลใน get_titlepluscontent\n",
        "get_titlepluscontent[0]"
      ],
      "metadata": {
        "id": "3Z7dmBu3ivnV",
        "colab": {
          "base_uri": "https://localhost:8080/"
        },
        "outputId": "ede0f04f-0e38-45a1-c34c-d36141bb3a4d"
      },
      "execution_count": null,
      "outputs": [
        {
          "output_type": "execute_result",
          "data": {
            "text/plain": [
              "'21st-Century Sports: How Digital Technology Is Changing the Face Of The Sporting Industry The sporting industry has come a long way since the ‘60s. It has carved out for itself a niche with its roots so deep that I cannot fathom the sports industry showing any sign of decline any time soon - or later. The reason can be found in this seemingly subtle difference - other industries have customers; the sporting industry has fans. Vivek Ranadivé, leader of the ownership group of the NBA’s Sacramento Kings, explained it beautifully, “Fans will paint their face purple, fans will evangelize. ... Every other CEO in every business is dying to be in our position — they’re dying to have fans.“ While fan passion alone could almost certainly keep the industry going, leagues and sporting franchises have decided not to rest on their laurels. The last few years have seen the steady introduction of technology into the world of sports - amplifying fans’ appreciation of games, enhancing athletes’ public profiles and informing their training methods, even influencing how contests are waged. Also, digital technology in particular has helped to create an alternative source of revenue, besides the games themselves - corporate sponsorship. They achieved this by capitalizing on the ardor of their customer base - sorry, fan base.'"
            ],
            "application/vnd.google.colaboratory.intrinsic+json": {
              "type": "string"
            }
          },
          "metadata": {},
          "execution_count": 15
        }
      ]
    },
    {
      "cell_type": "markdown",
      "source": [
        "นำข้อมูลจาก 2 dataframe ได้แก่ title และ content มารวมกันใน merge\n",
        "\n",
        "จากนั้นนำข้อมูลใน merge มาสร้างเป็น list ที่ชื่อ get_titlepluscontent"
      ],
      "metadata": {
        "id": "uXwVUHRyH3EA"
      }
    },
    {
      "cell_type": "markdown",
      "source": [
        "## **Save a Text File**"
      ],
      "metadata": {
        "id": "kjmBELoBE4ul"
      }
    },
    {
      "cell_type": "code",
      "source": [
        "# save article content in text file\n",
        "with open(r'/content/data/datastore/AllArticles_OnlyContent.txt', 'w') as fp:\n",
        "    for item in get_content:\n",
        "        # write each item on a new line\n",
        "        fp.write(\"%s\\n\" % item)"
      ],
      "metadata": {
        "id": "RWQh6XivXUdc"
      },
      "execution_count": null,
      "outputs": []
    },
    {
      "cell_type": "markdown",
      "source": [
        "บันทึกข้อมูล เนื้อหาของทุกบทความ ในรูปแบบ txt ลงใน datastore"
      ],
      "metadata": {
        "id": "nFKGDTXtJYRg"
      }
    },
    {
      "cell_type": "code",
      "source": [
        "# save article title and content in text file\n",
        "with open(r'/content/data/datastore/AllArticles_HeadingPlusContent.txt', 'w') as fp:\n",
        "    for item in get_titlepluscontent:\n",
        "        # write each item on a new line\n",
        "        fp.write(\"%s\\n\" % item)"
      ],
      "metadata": {
        "id": "TAzkS4dNzw_p"
      },
      "execution_count": null,
      "outputs": []
    },
    {
      "cell_type": "markdown",
      "source": [
        "บันทึกข้อมูลพาดหัวเรื่องและเนื้อหาของทุกบทความ ในรูปแบบ txt ลงใน datastore"
      ],
      "metadata": {
        "id": "0KXo2HXgJnSW"
      }
    },
    {
      "cell_type": "code",
      "source": [
        "# save article category content in text file\n",
        "with open(r'/content/data/target/category.txt', 'w') as fp:\n",
        "    for item in get_category:\n",
        "        # write each item on a new line\n",
        "        fp.write(\"%s\\n\" % item)"
      ],
      "metadata": {
        "id": "3Ye4RiTl05hJ"
      },
      "execution_count": null,
      "outputs": []
    },
    {
      "cell_type": "markdown",
      "source": [
        "บันทึกข้อมูล ทุกหมวดหมู่ ในรูปแบบ txt ลงใน target"
      ],
      "metadata": {
        "id": "kyb0QjKPJt9S"
      }
    },
    {
      "cell_type": "markdown",
      "source": [
        "# Part 2 : Text Classification\n"
      ],
      "metadata": {
        "id": "Q249Nzk8t5pO"
      }
    },
    {
      "cell_type": "markdown",
      "source": [
        "## Load Data"
      ],
      "metadata": {
        "id": "9IdRo1EeuI8o"
      }
    },
    {
      "cell_type": "code",
      "source": [
        "# load content data\n",
        "with open(\"/content/data/datastore/AllArticles_OnlyContent.txt\", \"r\", encoding=\"utf-8\") as f:\n",
        "    content_data = f.read().split(\"\\n\")\n",
        "    content_data.pop(-1)\n",
        "    f.close()"
      ],
      "metadata": {
        "id": "TbAsKbZBuITw"
      },
      "execution_count": null,
      "outputs": []
    },
    {
      "cell_type": "code",
      "source": [
        "# load heading+content data\n",
        "with open(\"/content/data/datastore/AllArticles_HeadingPlusContent.txt\", \"r\", encoding=\"utf-8\") as f:\n",
        "    headcont_data = f.read().split(\"\\n\")\n",
        "    headcont_data.pop(-1)\n",
        "    f.close()"
      ],
      "metadata": {
        "id": "vIqSYKFtvxBR"
      },
      "execution_count": null,
      "outputs": []
    },
    {
      "cell_type": "code",
      "source": [
        "# load category data\n",
        "with open(\"/content/data/target/category.txt\", \"r\", encoding=\"utf-8\") as f:\n",
        "    label_data = f.read().split(\"\\n\")\n",
        "    label_data.pop(-1)\n",
        "    f.close()"
      ],
      "metadata": {
        "id": "IQkh5GNEwl_a"
      },
      "execution_count": null,
      "outputs": []
    },
    {
      "cell_type": "code",
      "source": [
        "# create a dataframe from content and category\n",
        "article = pd.DataFrame(list(zip(content_data, headcont_data, label_data)),\n",
        "                  columns =['content', 'headingandcontent','label'])\n",
        "article.head(10)"
      ],
      "metadata": {
        "colab": {
          "base_uri": "https://localhost:8080/",
          "height": 424
        },
        "id": "6g7ZdK5sDpTn",
        "outputId": "50c4797f-a70c-4b1c-e98e-160461d48ae3"
      },
      "execution_count": null,
      "outputs": [
        {
          "output_type": "execute_result",
          "data": {
            "text/plain": [
              "                                             content  \\\n",
              "0  The sporting industry has come a long way sinc...   \n",
              "1  Shares in Europe's leading reinsurers and trav...   \n",
              "2  BT is offering customers free internet telepho...   \n",
              "3  Shares in UK banking group Barclays have risen...   \n",
              "4  England centre Olly Barkley has been passed fi...   \n",
              "5  Newcastle boss Graeme Souness has reopened his...   \n",
              "6  Liverpool may launch an £8m January bid for lo...   \n",
              "7  Liverpool manager Rafael Benitez admitted vict...   \n",
              "8  The arrival of new titles in the popular Medal...   \n",
              "9  Visitors to the British Library will be able t...   \n",
              "\n",
              "                                   headingandcontent       label  \n",
              "0  21st-Century Sports: How Digital Technology Is...  technology  \n",
              "1  Asian quake hits European shares Shares in Eur...    business  \n",
              "2  BT offers free net phone calls BT is offering ...  technology  \n",
              "3  Barclays shares up on merger talk Shares in UK...    business  \n",
              "4  Barkley fit for match in Ireland England centr...       sport  \n",
              "5  Bellamy under new fire Newcastle boss Graeme S...       sport  \n",
              "6  Benitez 'to launch Morientes bid' Liverpool ma...       sport  \n",
              "7  Benitez delight after crucial win Liverpool ma...       sport  \n",
              "8  Big war games battle it out The arrival of new...  technology  \n",
              "9  British Library gets wireless net Visitors to ...  technology  "
            ],
            "text/html": [
              "\n",
              "  <div id=\"df-0a239f22-e6cf-4dd7-9fe2-612748314dc8\">\n",
              "    <div class=\"colab-df-container\">\n",
              "      <div>\n",
              "<style scoped>\n",
              "    .dataframe tbody tr th:only-of-type {\n",
              "        vertical-align: middle;\n",
              "    }\n",
              "\n",
              "    .dataframe tbody tr th {\n",
              "        vertical-align: top;\n",
              "    }\n",
              "\n",
              "    .dataframe thead th {\n",
              "        text-align: right;\n",
              "    }\n",
              "</style>\n",
              "<table border=\"1\" class=\"dataframe\">\n",
              "  <thead>\n",
              "    <tr style=\"text-align: right;\">\n",
              "      <th></th>\n",
              "      <th>content</th>\n",
              "      <th>headingandcontent</th>\n",
              "      <th>label</th>\n",
              "    </tr>\n",
              "  </thead>\n",
              "  <tbody>\n",
              "    <tr>\n",
              "      <th>0</th>\n",
              "      <td>The sporting industry has come a long way sinc...</td>\n",
              "      <td>21st-Century Sports: How Digital Technology Is...</td>\n",
              "      <td>technology</td>\n",
              "    </tr>\n",
              "    <tr>\n",
              "      <th>1</th>\n",
              "      <td>Shares in Europe's leading reinsurers and trav...</td>\n",
              "      <td>Asian quake hits European shares Shares in Eur...</td>\n",
              "      <td>business</td>\n",
              "    </tr>\n",
              "    <tr>\n",
              "      <th>2</th>\n",
              "      <td>BT is offering customers free internet telepho...</td>\n",
              "      <td>BT offers free net phone calls BT is offering ...</td>\n",
              "      <td>technology</td>\n",
              "    </tr>\n",
              "    <tr>\n",
              "      <th>3</th>\n",
              "      <td>Shares in UK banking group Barclays have risen...</td>\n",
              "      <td>Barclays shares up on merger talk Shares in UK...</td>\n",
              "      <td>business</td>\n",
              "    </tr>\n",
              "    <tr>\n",
              "      <th>4</th>\n",
              "      <td>England centre Olly Barkley has been passed fi...</td>\n",
              "      <td>Barkley fit for match in Ireland England centr...</td>\n",
              "      <td>sport</td>\n",
              "    </tr>\n",
              "    <tr>\n",
              "      <th>5</th>\n",
              "      <td>Newcastle boss Graeme Souness has reopened his...</td>\n",
              "      <td>Bellamy under new fire Newcastle boss Graeme S...</td>\n",
              "      <td>sport</td>\n",
              "    </tr>\n",
              "    <tr>\n",
              "      <th>6</th>\n",
              "      <td>Liverpool may launch an £8m January bid for lo...</td>\n",
              "      <td>Benitez 'to launch Morientes bid' Liverpool ma...</td>\n",
              "      <td>sport</td>\n",
              "    </tr>\n",
              "    <tr>\n",
              "      <th>7</th>\n",
              "      <td>Liverpool manager Rafael Benitez admitted vict...</td>\n",
              "      <td>Benitez delight after crucial win Liverpool ma...</td>\n",
              "      <td>sport</td>\n",
              "    </tr>\n",
              "    <tr>\n",
              "      <th>8</th>\n",
              "      <td>The arrival of new titles in the popular Medal...</td>\n",
              "      <td>Big war games battle it out The arrival of new...</td>\n",
              "      <td>technology</td>\n",
              "    </tr>\n",
              "    <tr>\n",
              "      <th>9</th>\n",
              "      <td>Visitors to the British Library will be able t...</td>\n",
              "      <td>British Library gets wireless net Visitors to ...</td>\n",
              "      <td>technology</td>\n",
              "    </tr>\n",
              "  </tbody>\n",
              "</table>\n",
              "</div>\n",
              "      <button class=\"colab-df-convert\" onclick=\"convertToInteractive('df-0a239f22-e6cf-4dd7-9fe2-612748314dc8')\"\n",
              "              title=\"Convert this dataframe to an interactive table.\"\n",
              "              style=\"display:none;\">\n",
              "        \n",
              "  <svg xmlns=\"http://www.w3.org/2000/svg\" height=\"24px\"viewBox=\"0 0 24 24\"\n",
              "       width=\"24px\">\n",
              "    <path d=\"M0 0h24v24H0V0z\" fill=\"none\"/>\n",
              "    <path d=\"M18.56 5.44l.94 2.06.94-2.06 2.06-.94-2.06-.94-.94-2.06-.94 2.06-2.06.94zm-11 1L8.5 8.5l.94-2.06 2.06-.94-2.06-.94L8.5 2.5l-.94 2.06-2.06.94zm10 10l.94 2.06.94-2.06 2.06-.94-2.06-.94-.94-2.06-.94 2.06-2.06.94z\"/><path d=\"M17.41 7.96l-1.37-1.37c-.4-.4-.92-.59-1.43-.59-.52 0-1.04.2-1.43.59L10.3 9.45l-7.72 7.72c-.78.78-.78 2.05 0 2.83L4 21.41c.39.39.9.59 1.41.59.51 0 1.02-.2 1.41-.59l7.78-7.78 2.81-2.81c.8-.78.8-2.07 0-2.86zM5.41 20L4 18.59l7.72-7.72 1.47 1.35L5.41 20z\"/>\n",
              "  </svg>\n",
              "      </button>\n",
              "      \n",
              "  <style>\n",
              "    .colab-df-container {\n",
              "      display:flex;\n",
              "      flex-wrap:wrap;\n",
              "      gap: 12px;\n",
              "    }\n",
              "\n",
              "    .colab-df-convert {\n",
              "      background-color: #E8F0FE;\n",
              "      border: none;\n",
              "      border-radius: 50%;\n",
              "      cursor: pointer;\n",
              "      display: none;\n",
              "      fill: #1967D2;\n",
              "      height: 32px;\n",
              "      padding: 0 0 0 0;\n",
              "      width: 32px;\n",
              "    }\n",
              "\n",
              "    .colab-df-convert:hover {\n",
              "      background-color: #E2EBFA;\n",
              "      box-shadow: 0px 1px 2px rgba(60, 64, 67, 0.3), 0px 1px 3px 1px rgba(60, 64, 67, 0.15);\n",
              "      fill: #174EA6;\n",
              "    }\n",
              "\n",
              "    [theme=dark] .colab-df-convert {\n",
              "      background-color: #3B4455;\n",
              "      fill: #D2E3FC;\n",
              "    }\n",
              "\n",
              "    [theme=dark] .colab-df-convert:hover {\n",
              "      background-color: #434B5C;\n",
              "      box-shadow: 0px 1px 3px 1px rgba(0, 0, 0, 0.15);\n",
              "      filter: drop-shadow(0px 1px 2px rgba(0, 0, 0, 0.3));\n",
              "      fill: #FFFFFF;\n",
              "    }\n",
              "  </style>\n",
              "\n",
              "      <script>\n",
              "        const buttonEl =\n",
              "          document.querySelector('#df-0a239f22-e6cf-4dd7-9fe2-612748314dc8 button.colab-df-convert');\n",
              "        buttonEl.style.display =\n",
              "          google.colab.kernel.accessAllowed ? 'block' : 'none';\n",
              "\n",
              "        async function convertToInteractive(key) {\n",
              "          const element = document.querySelector('#df-0a239f22-e6cf-4dd7-9fe2-612748314dc8');\n",
              "          const dataTable =\n",
              "            await google.colab.kernel.invokeFunction('convertToInteractive',\n",
              "                                                     [key], {});\n",
              "          if (!dataTable) return;\n",
              "\n",
              "          const docLinkHtml = 'Like what you see? Visit the ' +\n",
              "            '<a target=\"_blank\" href=https://colab.research.google.com/notebooks/data_table.ipynb>data table notebook</a>'\n",
              "            + ' to learn more about interactive tables.';\n",
              "          element.innerHTML = '';\n",
              "          dataTable['output_type'] = 'display_data';\n",
              "          await google.colab.output.renderOutput(dataTable, element);\n",
              "          const docLink = document.createElement('div');\n",
              "          docLink.innerHTML = docLinkHtml;\n",
              "          element.appendChild(docLink);\n",
              "        }\n",
              "      </script>\n",
              "    </div>\n",
              "  </div>\n",
              "  "
            ]
          },
          "metadata": {},
          "execution_count": 22
        }
      ]
    },
    {
      "cell_type": "markdown",
      "source": [
        "## Text Pre-Processing"
      ],
      "metadata": {
        "id": "i1_h9zbESL30"
      }
    },
    {
      "cell_type": "code",
      "source": [
        "def lemma_tokenizer_w_pos_tag(text):\n",
        "    # define a nested function for converting POS tag for Lemmatizer\n",
        "    def convert_tags(tag):\n",
        "        if tag == 'vbd' or tag == 'vbg' or tag == 'vbz':\n",
        "            return 'v'\n",
        "        else: \n",
        "            return 'n'\n",
        "\n",
        "    # use the standard scikit-learn tokenizer first\n",
        "    standard_tokenizer = CountVectorizer().build_tokenizer()\n",
        "    tokens = standard_tokenizer(text)\n",
        "    tokens_with_pos_tag = nltk.pos_tag(tokens)\n",
        "\n",
        "    # then use NLTK to perform lemmatisation on each token\n",
        "    lemmatizer = nltk.WordNetLemmatizer()\n",
        "    lemma_tokens = []\n",
        "    for token in tokens_with_pos_tag:\n",
        "        new_tag = convert_tags(token[1].lower()) # covert character to lowercase\n",
        "        lemma_tokens.append(lemmatizer.lemmatize(token[0], new_tag))\n",
        "    return lemma_tokens"
      ],
      "metadata": {
        "id": "yt1JTG1OnzSk"
      },
      "execution_count": null,
      "outputs": []
    },
    {
      "cell_type": "markdown",
      "source": [
        "ใช้การ lemmatize เพื่อแปลงคำต่าง ๆ ให้อยู่ในรูปพื้นฐานของคำนั้น ๆ\n",
        "\n",
        "โดยสร้างฟังก์ชัน ดังนี้\n",
        "\n",
        "*  **lemma_tokenizer_w_pos_tag** ฟังก์ชันสำหรับตัดคำ \n",
        "\n",
        "*  **convert_tags()**\n",
        "ฟังก์ชันสำหรับหาประเภทของคำและกรองเฉพาะประเภทคำที่ต้องการ โดยในที่นี้สนใจแค่คำนามและคำกริยา"
      ],
      "metadata": {
        "id": "jgher4NZWEtQ"
      }
    },
    {
      "cell_type": "code",
      "source": [
        "# Term weighting\n",
        "tfidf = TfidfVectorizer(stop_words='english',min_df=3,tokenizer=lemma_tokenizer_w_pos_tag)\n",
        "X = tfidf.fit_transform(article.content)\n",
        "print(X.shape)"
      ],
      "metadata": {
        "id": "cDzOteB3iwWX",
        "colab": {
          "base_uri": "https://localhost:8080/"
        },
        "outputId": "979efcab-31ad-4eec-a64c-0f3a15c4aebe"
      },
      "execution_count": null,
      "outputs": [
        {
          "output_type": "stream",
          "name": "stderr",
          "text": [
            "/usr/local/lib/python3.8/dist-packages/sklearn/feature_extraction/text.py:396: UserWarning: Your stop_words may be inconsistent with your preprocessing. Tokenizing the stop words generated tokens ['le', 'u'] not in stop_words.\n",
            "  warnings.warn(\n"
          ]
        },
        {
          "output_type": "stream",
          "name": "stdout",
          "text": [
            "(1408, 8172)\n"
          ]
        }
      ]
    },
    {
      "cell_type": "markdown",
      "source": [
        "ใช้ TF-IDF เพื่อวัดความถี่ของคำแต่ละคำที่ปรากฏในเอกสารและวัดความสำคัญของคำในเอกสาร ถ้าคำเจอในเอกสารหลายครั้งหมายความว่าคำนั้นมีความสำคัญน้อยลง โดยใช้ weight ดังนี้\n",
        "*   stop_words คือคำที่พบบ่อยในเอกสาร ซึ่งไม่มีความสำคัญ ทำให้ข้อมูลและความซับซ้อนน้อยลง\n",
        "*   min_df ใช้เพื่อกรองคำที่เจอน้อยกว่า 3 เอกสาร\n",
        "*   tokenizer ใช้ตัดคำ โดยใช้จากฟังก์ชัน lemma_tokenizer_w_pos_tag\n",
        "\n"
      ],
      "metadata": {
        "id": "dsdiazf6R_nw"
      }
    },
    {
      "cell_type": "markdown",
      "source": [
        "## Feature/Label"
      ],
      "metadata": {
        "id": "0tZOM4kb4_i2"
      }
    },
    {
      "cell_type": "code",
      "source": [
        "X = tfidf.fit_transform(article.content).toarray() # feature from content data\n",
        "X2 = tfidf.fit_transform(article.headingandcontent).toarray() # feature from heading and content data\n",
        "y = article.label # target"
      ],
      "metadata": {
        "id": "8S8LDicT4krw"
      },
      "execution_count": null,
      "outputs": []
    },
    {
      "cell_type": "code",
      "source": [
        "X"
      ],
      "metadata": {
        "id": "IJ-DPwFqrcUn",
        "outputId": "1828c1d6-7378-4e90-e732-b987c2cf93bb",
        "colab": {
          "base_uri": "https://localhost:8080/"
        }
      },
      "execution_count": null,
      "outputs": [
        {
          "output_type": "execute_result",
          "data": {
            "text/plain": [
              "array([[0.        , 0.        , 0.        , ..., 0.        , 0.        ,\n",
              "        0.        ],\n",
              "       [0.        , 0.05051089, 0.        , ..., 0.        , 0.        ,\n",
              "        0.05409507],\n",
              "       [0.        , 0.0271994 , 0.        , ..., 0.        , 0.        ,\n",
              "        0.        ],\n",
              "       ...,\n",
              "       [0.        , 0.02247034, 0.        , ..., 0.        , 0.        ,\n",
              "        0.        ],\n",
              "       [0.        , 0.        , 0.        , ..., 0.        , 0.        ,\n",
              "        0.        ],\n",
              "       [0.        , 0.        , 0.        , ..., 0.        , 0.        ,\n",
              "        0.        ]])"
            ]
          },
          "metadata": {},
          "execution_count": 33
        }
      ]
    },
    {
      "cell_type": "markdown",
      "source": [
        "## Article Content Only Modeling"
      ],
      "metadata": {
        "id": "yXX_GQb0yHuE"
      }
    },
    {
      "cell_type": "markdown",
      "source": [
        "### Split train/test"
      ],
      "metadata": {
        "id": "myzfkVqVAtW5"
      }
    },
    {
      "cell_type": "code",
      "source": [
        "# Split train 70% & test 30%\n",
        "X_train, X_test, y_train, y_test = train_test_split(X, y, test_size=0.3, random_state=42)"
      ],
      "metadata": {
        "id": "Thtzx50Cou2m"
      },
      "execution_count": null,
      "outputs": []
    },
    {
      "cell_type": "markdown",
      "source": [
        "### Random Forest"
      ],
      "metadata": {
        "id": "MuB4jbo_5K8B"
      }
    },
    {
      "cell_type": "markdown",
      "source": [
        "เลือกใช้ Model นี้เนื่องจากเป็น Model ที่ถูกพัฒนาขึ้นจาก Decision Tree ต่างกันที่ Random Fores มี Tree หลาย ๆ  ต้น ทำให้ประสิทธิภาพในการทำงานสูงขึ้น แม่นยำมากขึ้นมากกว่า  Decision Tree  ซึ่งโมเดล Random Forest เป็นโมเดลที่ได้รับความนิยมไปอย่างมากในการทำ Classification\n"
      ],
      "metadata": {
        "id": "x9WazH-jaY1X"
      }
    },
    {
      "cell_type": "markdown",
      "source": [
        "#### Baseline model with default parameters"
      ],
      "metadata": {
        "id": "7Rr24zn654A9"
      }
    },
    {
      "cell_type": "code",
      "source": [
        "# create a based model\n",
        "rfc = RandomForestClassifier(random_state=42)"
      ],
      "metadata": {
        "id": "4i9tA_RvA2zM"
      },
      "execution_count": null,
      "outputs": []
    },
    {
      "cell_type": "code",
      "source": [
        "# fit model\n",
        "rfc.fit(X_train, y_train)"
      ],
      "metadata": {
        "id": "XOkTtiyZ5nQN",
        "colab": {
          "base_uri": "https://localhost:8080/"
        },
        "outputId": "da21a35b-24ad-479b-8138-73537f6ca336"
      },
      "execution_count": null,
      "outputs": [
        {
          "output_type": "execute_result",
          "data": {
            "text/plain": [
              "RandomForestClassifier(random_state=42)"
            ]
          },
          "metadata": {},
          "execution_count": 28
        }
      ]
    },
    {
      "cell_type": "code",
      "source": [
        "# evaluating model\n",
        "rfc_predicted = rfc.predict(X_test)\n",
        "print(classification_report(y_test, rfc_predicted))\n",
        "print('Accuracy = {:0.4f}%.'.format(accuracy_score(y_test, rfc_predicted)*100))"
      ],
      "metadata": {
        "colab": {
          "base_uri": "https://localhost:8080/"
        },
        "id": "VI2kXYvqBKLw",
        "outputId": "dd26bb75-d599-4e3a-8f7c-534616831e8f"
      },
      "execution_count": null,
      "outputs": [
        {
          "output_type": "stream",
          "name": "stdout",
          "text": [
            "              precision    recall  f1-score   support\n",
            "\n",
            "    business       0.95      0.98      0.97       167\n",
            "       sport       0.97      0.98      0.98       143\n",
            "  technology       0.97      0.92      0.95       113\n",
            "\n",
            "    accuracy                           0.96       423\n",
            "   macro avg       0.97      0.96      0.96       423\n",
            "weighted avg       0.96      0.96      0.96       423\n",
            "\n",
            "Accuracy = 96.4539%.\n"
          ]
        }
      ]
    },
    {
      "cell_type": "code",
      "source": [
        "# confusion matrix\n",
        "confusion_matrix = metrics.confusion_matrix(y_test, rfc_predicted)\n",
        "confusion = metrics.ConfusionMatrixDisplay(confusion_matrix = confusion_matrix, display_labels=['business', 'sport', 'technology'])\n",
        "confusion.plot()\n",
        "plt.show()"
      ],
      "metadata": {
        "colab": {
          "base_uri": "https://localhost:8080/",
          "height": 279
        },
        "id": "5XUHiQ8ZRs0e",
        "outputId": "9681bd2f-17e0-4e52-ebda-a8321c79c30e"
      },
      "execution_count": null,
      "outputs": [
        {
          "output_type": "display_data",
          "data": {
            "text/plain": [
              "<Figure size 432x288 with 2 Axes>"
            ],
            "image/png": "[encoded data removed]"
          },
          "metadata": {
            "needs_background": "light"
          }
        }
      ]
    },
    {
      "cell_type": "markdown",
      "source": [
        "#### Hyperparameter Tuning"
      ],
      "metadata": {
        "id": "bDJ5osq06CYP"
      }
    },
    {
      "cell_type": "code",
      "source": [
        "# create a based model\n",
        "rfc = RandomForestClassifier(random_state=42)\n",
        "\n",
        "# create the parameter grid based on the results of random search \n",
        "param_grid = { \n",
        "    'n_estimators': [200, 300, 400, 500],\n",
        "    'max_features': ['sqrt'],\n",
        "    'max_depth' : [4,5,6,7,8],\n",
        "    'criterion' :['gini', 'entropy']\n",
        "}\n",
        "\n",
        "# instantiate the grid search model\n",
        "grid_search = GridSearchCV(estimator = rfc, param_grid = param_grid, cv = 5)"
      ],
      "metadata": {
        "id": "xBAC9drlLTB-"
      },
      "execution_count": null,
      "outputs": []
    },
    {
      "cell_type": "code",
      "source": [
        "# fit the grid search to the data\n",
        "grid_search.fit(X_train, y_train)"
      ],
      "metadata": {
        "id": "ckyTFi_8rv6p"
      },
      "execution_count": null,
      "outputs": []
    },
    {
      "cell_type": "code",
      "source": [
        "# get best estimator for voting classifier\n",
        "rfc_best = grid_search.best_estimator_\n",
        "print(grid_search.best_params_)"
      ],
      "metadata": {
        "id": "2bOD5y4Ewbi8"
      },
      "execution_count": null,
      "outputs": []
    },
    {
      "cell_type": "code",
      "source": [
        "# evaluating model\n",
        "rfc_predicted = rfc_best.predict(X_test)\n",
        "print(classification_report(y_test, rfc_predicted))\n",
        "print('Accuracy = {:0.4f}%.'.format(accuracy_score(y_test, rfc_predicted)*100))"
      ],
      "metadata": {
        "id": "OUWDyAqqxeAD"
      },
      "execution_count": null,
      "outputs": []
    },
    {
      "cell_type": "code",
      "source": [
        "# confusion matrix\n",
        "confusion_matrix = metrics.confusion_matrix(y_test, rfc_predicted)\n",
        "confusion = metrics.ConfusionMatrixDisplay(confusion_matrix = confusion_matrix, display_labels=['business', 'sport', 'technology'])\n",
        "confusion.plot()\n",
        "plt.show()"
      ],
      "metadata": {
        "id": "tEmhVwUTSVML"
      },
      "execution_count": null,
      "outputs": []
    },
    {
      "cell_type": "markdown",
      "source": [
        "**Tool : GridSearch (ใช้ในทุก ๆ model ต่อไปนี้)**\n",
        "\n",
        "เนื่องจากเป็นการหาค่า parameter แบบ Systematic โดยวิธีกำหนดค่าของแต่ละ parameter ที่ต้องการจะลอง test จากนั้นrun  model ในทุก ๆ ชุดของค่า parameter ที่เป็นไปได้ โดยการจับทุกๆ parameter มา train โดยมีข้อเสีย คือ ต้องกำหนดค่า parameter ให้เหมาะสมตั้งแต่แรก ซึ่งถ้าค่าที่ดีสุดไม่ได้อยู่ในกลุ่มที่เลือกไว้ก็จะทำให้พลาดในการหา parameter ที่ดีสุด\n",
        "อีกทั้งยังเป็นเป็นเครื่องมือที่ช่วยในการปรับค่า parameter ต่าง ๆ ของ model อยู่ภายใน package \n",
        "ที่รายละเอียดงานกำหนดเอาไว้อย่าง sklearn ด้วย\n",
        "\n",
        "\n",
        "**มี Parameters ที่กำหนด ดังนี้**\n",
        "*  n_estimators =  200, 300, 400, 500\n",
        "*  max_features =  sqrt\n",
        "*  max_depth = 4,5,6,7,8\n",
        "*  criterion = gini, entropy\n",
        "*  cv = 5\n"
      ],
      "metadata": {
        "id": "3yNTGhkqarBb"
      }
    },
    {
      "cell_type": "markdown",
      "source": [
        "**เปรียบเทียบประสิทธิภาพของ model**\n",
        "\n",
        "<img src=\"https://drive.google.com/uc?export=view&id=1m5aNxDWOuazPNJqzJKubh3H16k8X_NpH\" width=\"500\">"
      ],
      "metadata": {
        "id": "2NmoKoOKbVqU"
      }
    },
    {
      "cell_type": "markdown",
      "source": [
        "**สรุปผลการใช้ RandomForest**\n",
        "\n",
        "จากการเปรียบเทียบประสิทธิภาพของ model จะเห็นได้ว่า เมื่อ tune model ตามค่า paraneter ที่กำหนดแล้ว ประสิทธิภาพของ Random Forest ลดลงจาก 96.6903% เหลือ 95.9811% คิดเป็นส่วนต่างที่ 0.792%  โดยส่วนมากนั้นทำนายในส่วนของประเภทบทความ Technology  ผิดพลาดมากยิ่งขึ้น"
      ],
      "metadata": {
        "id": "wWQJZqdPcWvQ"
      }
    },
    {
      "cell_type": "markdown",
      "source": [
        "#### Cross Validation with Best Parameters Model"
      ],
      "metadata": {
        "id": "tKhyvPuNu5fF"
      }
    },
    {
      "cell_type": "code",
      "source": [
        "# cross validation 5 folds\n",
        "all_accuracy = cross_val_score(rfc, X, y, cv=5)\n",
        "print('Mean Accuracy = {:0.4f}%.'.format(all_accuracy.mean()*100))"
      ],
      "metadata": {
        "id": "bxyXQew6tsct"
      },
      "execution_count": null,
      "outputs": []
    },
    {
      "cell_type": "markdown",
      "source": [
        "### Support Vector Classifier (SVC)"
      ],
      "metadata": {
        "id": "QC4nnqLsSBtu"
      }
    },
    {
      "cell_type": "markdown",
      "source": [
        "เลือกใช้ Model นี้เนื่องจากเป็น Model ที่ถูกพัฒนาขึ้นสำหรับ Binary classification แต่ก็สามารถนำไปประยุกต์ใช้กับ Multiclass classification ได้ด้วย จึงมีทั้งความยึดหยุ่นและสามารถทำงานได้ดี โดยเฉพาะอย่างยิ่งเมื่อข้อมูลมีความซับซ้อน แต่จำนวนตัวอย่างไม่มาก"
      ],
      "metadata": {
        "id": "7OA584O1cszw"
      }
    },
    {
      "cell_type": "markdown",
      "source": [
        "#### Baseline model with default parameters"
      ],
      "metadata": {
        "id": "d7K6QmGqTFz9"
      }
    },
    {
      "cell_type": "code",
      "source": [
        "# create a based model\n",
        "svc = SVC(random_state=42)"
      ],
      "metadata": {
        "id": "ykMxasZ7SGxU"
      },
      "execution_count": null,
      "outputs": []
    },
    {
      "cell_type": "code",
      "source": [
        "# fit model\n",
        "svc.fit(X_train, y_train)"
      ],
      "metadata": {
        "id": "57GDbjYjTCwG"
      },
      "execution_count": null,
      "outputs": []
    },
    {
      "cell_type": "code",
      "source": [
        "# evaluating model\n",
        "svc_predicted = svc.predict(X_test)\n",
        "print(classification_report(y_test, svc_predicted))\n",
        "print('Accuracy = {:0.4f}%.'.format(accuracy_score(y_test, svc_predicted)*100))"
      ],
      "metadata": {
        "id": "VFi8gtapTPqF"
      },
      "execution_count": null,
      "outputs": []
    },
    {
      "cell_type": "code",
      "source": [
        "# confusion matrix\n",
        "confusion_matrix = metrics.confusion_matrix(y_test, svc_predicted)\n",
        "confusion = metrics.ConfusionMatrixDisplay(confusion_matrix = confusion_matrix, display_labels=['business', 'sport', 'technology'])\n",
        "confusion.plot()\n",
        "plt.show()"
      ],
      "metadata": {
        "id": "1zEVKlYnTaIC"
      },
      "execution_count": null,
      "outputs": []
    },
    {
      "cell_type": "markdown",
      "source": [
        "#### Hyperparameter Tuning"
      ],
      "metadata": {
        "id": "p5xGI9SVTuqv"
      }
    },
    {
      "cell_type": "code",
      "source": [
        "# create a based model\n",
        "svc = SVC(random_state=42)\n",
        "\n",
        "# create the parameter grid based on the results of random search \n",
        "param_grid = { \n",
        "    'kernel': ['sigmoid'],\n",
        "    'C': [10, 1.0, 0.1],\n",
        "    'gamma' : ['scale']\n",
        "}\n",
        "cv = RepeatedStratifiedKFold(n_splits=5, random_state=42)\n",
        "\n",
        "# instantiate the grid search model\n",
        "grid_search = GridSearchCV(estimator=svc, param_grid=param_grid, n_jobs=-1, cv=cv)"
      ],
      "metadata": {
        "id": "YN2RBKrXTuqw"
      },
      "execution_count": null,
      "outputs": []
    },
    {
      "cell_type": "code",
      "source": [
        "# fit the grid search to the data\n",
        "grid_search.fit(X_train, y_train)"
      ],
      "metadata": {
        "id": "f2xqDE2FTuqw"
      },
      "execution_count": null,
      "outputs": []
    },
    {
      "cell_type": "code",
      "source": [
        "# get best estimator for voting classifier\n",
        "svc_best = grid_search.best_estimator_\n",
        "print(grid_search.best_params_)"
      ],
      "metadata": {
        "id": "j5DcC74xTuqx"
      },
      "execution_count": null,
      "outputs": []
    },
    {
      "cell_type": "code",
      "source": [
        "# evaluating model\n",
        "svc_predicted = svc_best.predict(X_test)\n",
        "print(classification_report(y_test, svc_predicted))\n",
        "print('Accuracy = {:0.4f}%.'.format(accuracy_score(y_test, svc_predicted)*100))"
      ],
      "metadata": {
        "id": "tf2wwJISTuqx"
      },
      "execution_count": null,
      "outputs": []
    },
    {
      "cell_type": "code",
      "source": [
        "# confusion matrix\n",
        "confusion_matrix = metrics.confusion_matrix(y_test, svc_predicted)\n",
        "confusion = metrics.ConfusionMatrixDisplay(confusion_matrix = confusion_matrix, display_labels=['business', 'sport', 'technology'])\n",
        "confusion.plot()\n",
        "plt.show()"
      ],
      "metadata": {
        "id": "Mhu0ugugTuqy"
      },
      "execution_count": null,
      "outputs": []
    },
    {
      "cell_type": "markdown",
      "source": [
        "**มี Parameters ที่กำหนด ดังนี้**\n",
        "*  Kernel =  ['sigmoid']\n",
        "*  C =  [10, 1.0, 0.1]\n",
        "*  gamma = ['scale']\n"
      ],
      "metadata": {
        "id": "3wz31kZmc186"
      }
    },
    {
      "cell_type": "markdown",
      "source": [
        "**เปรียบเทียบประสิทธิภาพของ model**\n",
        "\n",
        "<img src=\"https://drive.google.com/uc?export=view&id=13JwFpqwE3hRsqhiGaGtoLl49pUX7sEgj\" width=\"500\">"
      ],
      "metadata": {
        "id": "996eRgUTdN11"
      }
    },
    {
      "cell_type": "markdown",
      "source": [
        "**สรุปผลการใช้ Support Vector Classifier (SVC)**\n",
        "\n",
        "จากการเปรียบเทียบประสิทธิภาพของ model จะเห็นได้ว่า เมื่อ tune model ตามค่า paraneter ที่กำหนดแล้ว ประสิทธิภาพของ Support Vector Classifier  เพิ่มขึ้นจาก 98.8180% เหลือ 99.0544% คิดเป็นส่วนต่างที่ 0.2364%  ซึ่งถือว่าไม่มีการเปลี่ยนแปลงมากนัก"
      ],
      "metadata": {
        "id": "_RLriPC0eqlP"
      }
    },
    {
      "cell_type": "markdown",
      "source": [
        "#### Cross Validation with Best Parameters Model"
      ],
      "metadata": {
        "id": "42b7Bz5Nvg6x"
      }
    },
    {
      "cell_type": "code",
      "source": [
        "# cross validation 5 folds\n",
        "all_accuracy = cross_val_score(svc_best, X, y, cv=5)\n",
        "print('Mean Accuracy = {:0.4f}%.'.format(all_accuracy.mean()*100))"
      ],
      "metadata": {
        "id": "H5VjUnBGvg6y"
      },
      "execution_count": null,
      "outputs": []
    },
    {
      "cell_type": "markdown",
      "source": [
        "### Logistic Regression"
      ],
      "metadata": {
        "id": "_3ra-qpbbuAt"
      }
    },
    {
      "cell_type": "markdown",
      "source": [
        "เลือกใช้ Model นี้เนื่องจาก Logistic regression เป็น Model ที่ใช้กับปัญหา binary classification ที่ตัวแปรตามเป็นแบบ 1/0 เป็นหลัก แต่ก็สามารถทำ multi classification ได้ด้วยเช่นกัน ดังนั้นในปัจจุบันจึงเป็นอีกหนึ่ง model ที่ได้รับความนิยมในการทำ classification"
      ],
      "metadata": {
        "id": "zxA2qk-oewQh"
      }
    },
    {
      "cell_type": "markdown",
      "source": [
        "#### Baseline model with default parameters"
      ],
      "metadata": {
        "id": "Vb0i9Pgyb5FV"
      }
    },
    {
      "cell_type": "code",
      "source": [
        "# create a based model\n",
        "log = LogisticRegression(random_state=42)"
      ],
      "metadata": {
        "id": "N-CM-7RHeZTJ"
      },
      "execution_count": null,
      "outputs": []
    },
    {
      "cell_type": "code",
      "source": [
        "# fit model\n",
        "log.fit(X_train, y_train)"
      ],
      "metadata": {
        "id": "1Lq8anc1dZX2"
      },
      "execution_count": null,
      "outputs": []
    },
    {
      "cell_type": "code",
      "source": [
        "# evaluating model\n",
        "log_predicted = log.predict(X_test)\n",
        "print(classification_report(y_test, log_predicted))\n",
        "print('Accuracy = {:0.4f}%.'.format(accuracy_score(y_test, log_predicted)*100))"
      ],
      "metadata": {
        "id": "0sBnvKUFddWO"
      },
      "execution_count": null,
      "outputs": []
    },
    {
      "cell_type": "code",
      "source": [
        "# confusion matrix\n",
        "confusion_matrix = metrics.confusion_matrix(y_test, log_predicted)\n",
        "confusion = metrics.ConfusionMatrixDisplay(confusion_matrix = confusion_matrix, display_labels=['business', 'sport', 'technology'])\n",
        "confusion.plot()\n",
        "plt.show()"
      ],
      "metadata": {
        "id": "VhABlRPTdkJH"
      },
      "execution_count": null,
      "outputs": []
    },
    {
      "cell_type": "markdown",
      "source": [
        "#### Hyperparameter Tuning"
      ],
      "metadata": {
        "id": "0-gLcji9dqLX"
      }
    },
    {
      "cell_type": "code",
      "source": [
        "# create a based model\n",
        "log = LogisticRegression(random_state=42)\n",
        "\n",
        "# create the parameter grid based on the results of random search \n",
        "penalty = ['l2']\n",
        "c_values = [100, 10, 1.0, 0.1, 0.01]\n",
        "cv = RepeatedStratifiedKFold(n_splits=5, random_state=42)\n",
        "param_grid = dict(penalty=penalty,C=c_values)\n",
        "\n",
        "# instantiate the grid search model\n",
        "grid_search = GridSearchCV(estimator=log, param_grid=param_grid, cv=cv)"
      ],
      "metadata": {
        "id": "gBNnKQGidsi4"
      },
      "execution_count": null,
      "outputs": []
    },
    {
      "cell_type": "code",
      "source": [
        "# fit the grid search to the data\n",
        "grid_result = grid_search.fit(X_train, y_train)"
      ],
      "metadata": {
        "id": "LoMOQdIqfvzG"
      },
      "execution_count": null,
      "outputs": []
    },
    {
      "cell_type": "code",
      "source": [
        "# get best estimator for voting classifier\n",
        "log_best = grid_search.best_estimator_\n",
        "print(grid_search.best_params_)"
      ],
      "metadata": {
        "id": "MjqhfrFvfz-3"
      },
      "execution_count": null,
      "outputs": []
    },
    {
      "cell_type": "code",
      "source": [
        "# evaluating model\n",
        "log_predicted = log_best.predict(X_test)\n",
        "print(classification_report(y_test, log_predicted))\n",
        "print('Accuracy = {:0.4f}%.'.format(accuracy_score(y_test, log_predicted)*100))"
      ],
      "metadata": {
        "id": "FT1S1OHCf5AG"
      },
      "execution_count": null,
      "outputs": []
    },
    {
      "cell_type": "code",
      "source": [
        "# confusion matrix\n",
        "confusion_matrix = metrics.confusion_matrix(y_test, log_predicted)\n",
        "confusion = metrics.ConfusionMatrixDisplay(confusion_matrix = confusion_matrix, display_labels=['business', 'sport', 'technology'])\n",
        "confusion.plot()\n",
        "plt.show()"
      ],
      "metadata": {
        "id": "n0jb3Ba5f_n9"
      },
      "execution_count": null,
      "outputs": []
    },
    {
      "cell_type": "markdown",
      "source": [
        "**มี Parameters ที่กำหนด ดังนี้**\n",
        "\n",
        "* penalty = ['l2']\n",
        "* c_values = [100, 10, 1.0, 0.1, 0.01]\n",
        "* N_splits = 5\n",
        "* Random_state = 42\n"
      ],
      "metadata": {
        "id": "T3oyXBcne3Q-"
      }
    },
    {
      "cell_type": "markdown",
      "source": [
        "**เปรียบเทียบประสิทธิภาพของ model**\n",
        "\n",
        "<img src=\"https://drive.google.com/uc?export=view&id=1xLOBW9iUokzcQLVRnJcbdCzLmyMBhqR9\" width=\"500\">"
      ],
      "metadata": {
        "id": "g4NwYl-te3tG"
      }
    },
    {
      "cell_type": "markdown",
      "source": [
        "**สรุปผลการใช้ Logistic Regression**\n",
        "\n",
        "จากการเปรียบเทียบประสิทธิภาพของ model จะเห็นได้ว่า เมื่อ tune model ตามค่า parameter ที่กำหนดแล้ว ประสิทธิภาพของ Support Vector Classifier  เพิ่มขึ้นจาก 98.8180% เหลือ 99.0544% คิดเป็นส่วนต่างที่ 1.1821%   โดยส่วนมากนั้นทำนายในส่วนของประเภทบทความ Technology  ถูกต้องมากยิ่งขึ้น\n"
      ],
      "metadata": {
        "id": "lnpIwoKBe3-0"
      }
    },
    {
      "cell_type": "markdown",
      "source": [
        "#### Cross Validation with Best Parameters Model"
      ],
      "metadata": {
        "id": "kG8xcOxqvqnw"
      }
    },
    {
      "cell_type": "code",
      "source": [
        "# cross validation 5 folds\n",
        "all_accuracy = cross_val_score(log_best, X, y, cv=5)\n",
        "print('Mean Accuracy = {:0.4f}%.'.format(all_accuracy.mean()*100))"
      ],
      "metadata": {
        "id": "YLJjQg4avqnw"
      },
      "execution_count": null,
      "outputs": []
    },
    {
      "cell_type": "markdown",
      "source": [
        "### All Model Comparison"
      ],
      "metadata": {
        "id": "DcRuQmypftSJ"
      }
    },
    {
      "cell_type": "markdown",
      "source": [
        "**เปรียบเทียบประสิทธิภาพของทุกโมเดล**\n",
        "\n",
        "จากการทำการปรับ parameter ทำให้เห็นว่าในบางโมเดล ประสิทธิภาพลดลง ดังนั้นจึงจะใช้โมเดลที่มีค่า accuracy สูงสุดในแต่ละประเภท ในการทำ cross validation 5-fold  เพื่อหาประสิทธิภาพที่แท้จริงของทั้ง 3 โมเดล\n",
        "\n",
        "<img src=\"https://drive.google.com/uc?export=view&id=139FdvRzHsmB0kyykXUJ-vRiX9gqwoVYa\" width=\"500\">\n",
        "\n",
        "จะเห็นได้ว่าโมเดลที่ดีที่สุดคือ Logistic Regression ซึ่งมีค่า ซึ่งมีค่า accuracy อยู่ที่ 98.3660% โดยก่อนการปรับค่า parameter Logistic Regression นั้นมีค่า accuracy น้อยกว่า Support Vector Classifier (SVC) และเมื่อปรับแล้วค่า accuracy แล้ว จึงมีค่า accuracy เท่ากับ Support Vector Classifier (SVC) ในขั้นตอนสุดท้าย หรือการทำ cross validation 5-fold ทำให้ทราบประสิทธิภาพที่แท้จริงของ model ที่มาจากการแบ่งชุดข้อมูลเป็น 5 กลุ่ม แล้ว train ดังรูป ทำให้ทราบว่า Support Vector Classifier (SVC) มีจุดบกพร่องมากกว่า Logistic Regression\n",
        "\n",
        "<img src=\"https://drive.google.com/uc?export=view&id=1fQ5MyLvB8XCcphkgWpJPGsTVOzDaF9vF\" width=\"500\">"
      ],
      "metadata": {
        "id": "WTvS2mncfyni"
      }
    },
    {
      "cell_type": "markdown",
      "source": [
        "## Article Heading and Content Modeling"
      ],
      "metadata": {
        "id": "dhXLEV85Cmvw"
      }
    },
    {
      "cell_type": "markdown",
      "source": [
        "### Split train/test"
      ],
      "metadata": {
        "id": "ij5fss6ACmv8"
      }
    },
    {
      "cell_type": "code",
      "source": [
        "# Split train 70% & test 30%\n",
        "X_train, X_test, y_train, y_test = train_test_split(X2, y, test_size=0.3, random_state=42)"
      ],
      "metadata": {
        "id": "PK4RHYcbCmv8"
      },
      "execution_count": null,
      "outputs": []
    },
    {
      "cell_type": "markdown",
      "source": [
        "### Random Forest"
      ],
      "metadata": {
        "id": "GjbWqJOrCmv9"
      }
    },
    {
      "cell_type": "markdown",
      "source": [
        "#### Baseline model with default parameters"
      ],
      "metadata": {
        "id": "TaKuZtWDCmv9"
      }
    },
    {
      "cell_type": "code",
      "source": [
        "# create a based model\n",
        "rfc = RandomForestClassifier(random_state=42)"
      ],
      "metadata": {
        "id": "dKaOFxykCmv9"
      },
      "execution_count": null,
      "outputs": []
    },
    {
      "cell_type": "code",
      "source": [
        "# fit model\n",
        "rfc.fit(X_train, y_train)"
      ],
      "metadata": {
        "id": "X6K7AvN-Cmv9"
      },
      "execution_count": null,
      "outputs": []
    },
    {
      "cell_type": "code",
      "source": [
        "# evaluating model\n",
        "rfc_predicted = rfc.predict(X_test)\n",
        "print(classification_report(y_test, rfc_predicted))\n",
        "print('Accuracy = {:0.4f}%.'.format(accuracy_score(y_test, rfc_predicted)*100))"
      ],
      "metadata": {
        "id": "qyFakpVkCmv9"
      },
      "execution_count": null,
      "outputs": []
    },
    {
      "cell_type": "code",
      "source": [
        "# confusion matrix\n",
        "confusion_matrix = metrics.confusion_matrix(y_test, rfc_predicted)\n",
        "confusion = metrics.ConfusionMatrixDisplay(confusion_matrix = confusion_matrix, display_labels=['business', 'sport', 'technology'])\n",
        "confusion.plot()\n",
        "plt.show()"
      ],
      "metadata": {
        "id": "f9pDzyZrCmv9"
      },
      "execution_count": null,
      "outputs": []
    },
    {
      "cell_type": "markdown",
      "source": [
        "#### Hyperparameter Tuning"
      ],
      "metadata": {
        "id": "V2_xm18cCmv9"
      }
    },
    {
      "cell_type": "code",
      "source": [
        "# create a based model\n",
        "rfc = RandomForestClassifier(random_state=42)\n",
        "\n",
        "# create the parameter grid based on the results of random search \n",
        "param_grid = { \n",
        "    'n_estimators': [200, 300, 400, 500],\n",
        "    'max_features': ['sqrt'],\n",
        "    'max_depth' : [4,5,6,7,8],\n",
        "    'criterion' :['gini', 'entropy']\n",
        "}\n",
        "\n",
        "# instantiate the grid search model\n",
        "grid_search = GridSearchCV(estimator = rfc, param_grid = param_grid, cv = 5)"
      ],
      "metadata": {
        "id": "gmZNDocsCmv9"
      },
      "execution_count": null,
      "outputs": []
    },
    {
      "cell_type": "code",
      "source": [
        "# fit the grid search to the data\n",
        "grid_search.fit(X_train, y_train)"
      ],
      "metadata": {
        "id": "RU5wKMF8Cmv-"
      },
      "execution_count": null,
      "outputs": []
    },
    {
      "cell_type": "code",
      "source": [
        "# get best estimator for voting classifier\n",
        "rfc_best = grid_search.best_estimator_\n",
        "print(grid_search.best_params_)"
      ],
      "metadata": {
        "id": "RRWKNNUeCmv-"
      },
      "execution_count": null,
      "outputs": []
    },
    {
      "cell_type": "code",
      "source": [
        "# evaluating model\n",
        "rfc_predicted = rfc_best.predict(X_test)\n",
        "print(classification_report(y_test, rfc_predicted))\n",
        "print('Accuracy = {:0.4f}%.'.format(accuracy_score(y_test, rfc_predicted)*100))"
      ],
      "metadata": {
        "id": "qPUervpoCmv-"
      },
      "execution_count": null,
      "outputs": []
    },
    {
      "cell_type": "code",
      "source": [
        "# confusion matrix\n",
        "confusion_matrix = metrics.confusion_matrix(y_test, rfc_predicted)\n",
        "confusion = metrics.ConfusionMatrixDisplay(confusion_matrix = confusion_matrix, display_labels=['business', 'sport', 'technology'])\n",
        "confusion.plot()\n",
        "plt.show()"
      ],
      "metadata": {
        "id": "A5gRG2NtCmv-"
      },
      "execution_count": null,
      "outputs": []
    },
    {
      "cell_type": "markdown",
      "source": [
        "**เปรียบเทียบประสิทธิภาพของ model**\n",
        "\n",
        "<img src=\"https://drive.google.com/uc?export=view&id=1H7IeyMQA8kTSOv8lmFbxvMKsxGZDWjoo\" width=\"500\">"
      ],
      "metadata": {
        "id": "e3zAaNYghA1i"
      }
    },
    {
      "cell_type": "markdown",
      "source": [
        "**สรุปผลการใช้ RandomForest**\n",
        "\n",
        "จากการเปรียบเทียบประสิทธิภาพของ model จะเห็นได้ว่า เมื่อ tune model ตามค่า paraneter ที่กำหนดแล้ว ประสิทธิภาพของ Random Forest ลดลงจาก 96.2175% เหลือ 95.5083% คิดเป็นส่วนต่างที่ 0.7092%  โดยส่วนมากนั้นทำนายในส่วนของประเภทบทความ Technology  ผิดพลาดมากยิ่งขึ้น\n"
      ],
      "metadata": {
        "id": "Ly87eQyOhIbu"
      }
    },
    {
      "cell_type": "markdown",
      "source": [
        "#### Cross Validation with Best Parameters Model"
      ],
      "metadata": {
        "id": "s3xjHSrgCmv-"
      }
    },
    {
      "cell_type": "code",
      "source": [
        "# cross validation 5 folds\n",
        "all_accuracy = cross_val_score(rfc, X, y, cv=5)\n",
        "print('Mean Accuracy = {:0.4f}%.'.format(all_accuracy.mean()*100))"
      ],
      "metadata": {
        "id": "ZrTTlVwLCmv-"
      },
      "execution_count": null,
      "outputs": []
    },
    {
      "cell_type": "markdown",
      "source": [
        "### Support Vector Classifier (SVC)"
      ],
      "metadata": {
        "id": "ezxBXoNBCmv-"
      }
    },
    {
      "cell_type": "markdown",
      "source": [
        "#### Baseline model with default parameters"
      ],
      "metadata": {
        "id": "_M2dRICNCmv-"
      }
    },
    {
      "cell_type": "code",
      "source": [
        "# create a based model\n",
        "svc = SVC(random_state=42)"
      ],
      "metadata": {
        "id": "5Z-8-Cb8Cmv-"
      },
      "execution_count": null,
      "outputs": []
    },
    {
      "cell_type": "code",
      "source": [
        "# fit model\n",
        "svc.fit(X_train, y_train)"
      ],
      "metadata": {
        "id": "AtUrhdioCmv_"
      },
      "execution_count": null,
      "outputs": []
    },
    {
      "cell_type": "code",
      "source": [
        "# evaluating model\n",
        "svc_predicted = svc.predict(X_test)\n",
        "print(classification_report(y_test, svc_predicted))\n",
        "print('Accuracy = {:0.4f}%.'.format(accuracy_score(y_test, svc_predicted)*100))"
      ],
      "metadata": {
        "id": "7BeGT150Cmv_"
      },
      "execution_count": null,
      "outputs": []
    },
    {
      "cell_type": "code",
      "source": [
        "# confusion matrix\n",
        "confusion_matrix = metrics.confusion_matrix(y_test, svc_predicted)\n",
        "confusion = metrics.ConfusionMatrixDisplay(confusion_matrix = confusion_matrix, display_labels=['business', 'sport', 'technology'])\n",
        "confusion.plot()\n",
        "plt.show()"
      ],
      "metadata": {
        "id": "5BcPGJtSCmv_"
      },
      "execution_count": null,
      "outputs": []
    },
    {
      "cell_type": "markdown",
      "source": [
        "#### Hyperparameter Tuning"
      ],
      "metadata": {
        "id": "MpQQgb3ECmv_"
      }
    },
    {
      "cell_type": "code",
      "source": [
        "# create a based model\n",
        "svc = SVC(random_state=42)\n",
        "\n",
        "# create the parameter grid based on the results of random search \n",
        "param_grid = { \n",
        "    'kernel': ['sigmoid'],\n",
        "    'C': [10, 1.0, 0.1],\n",
        "    'gamma' : ['scale']\n",
        "}\n",
        "cv = RepeatedStratifiedKFold(n_splits=5, random_state=42)\n",
        "\n",
        "# instantiate the grid search model\n",
        "grid_search = GridSearchCV(estimator=svc, param_grid=param_grid, n_jobs=-1, cv=cv)"
      ],
      "metadata": {
        "id": "6INc7h8CCmv_"
      },
      "execution_count": null,
      "outputs": []
    },
    {
      "cell_type": "code",
      "source": [
        "# fit the grid search to the data\n",
        "grid_search.fit(X_train, y_train)"
      ],
      "metadata": {
        "id": "QJ4ZbCP0Cmv_"
      },
      "execution_count": null,
      "outputs": []
    },
    {
      "cell_type": "code",
      "source": [
        "# get best estimator for voting classifier\n",
        "svc_best = grid_search.best_estimator_\n",
        "print(grid_search.best_params_)"
      ],
      "metadata": {
        "id": "HRl7Ni2kCmv_"
      },
      "execution_count": null,
      "outputs": []
    },
    {
      "cell_type": "code",
      "source": [
        "# evaluating model\n",
        "svc_predicted = svc_best.predict(X_test)\n",
        "print(classification_report(y_test, svc_predicted))\n",
        "print('Accuracy = {:0.4f}%.'.format(accuracy_score(y_test, svc_predicted)*100))"
      ],
      "metadata": {
        "id": "1bsMy9QACmv_"
      },
      "execution_count": null,
      "outputs": []
    },
    {
      "cell_type": "code",
      "source": [
        "# confusion matrix\n",
        "confusion_matrix = metrics.confusion_matrix(y_test, svc_predicted)\n",
        "confusion = metrics.ConfusionMatrixDisplay(confusion_matrix = confusion_matrix, display_labels=['business', 'sport', 'technology'])\n",
        "confusion.plot()\n",
        "plt.show()"
      ],
      "metadata": {
        "id": "7eisX3g8Cmv_"
      },
      "execution_count": null,
      "outputs": []
    },
    {
      "cell_type": "markdown",
      "source": [
        "**เปรียบเทียบประสิทธิภาพของ model**\n",
        "\n",
        "<img src=\"https://drive.google.com/uc?export=view&id=1YIRy5Rfefx601Smtmxrlo903o8pBWCXT\" width=\"500\">"
      ],
      "metadata": {
        "id": "txVIHPELhPUX"
      }
    },
    {
      "cell_type": "markdown",
      "source": [
        "**สรุปผลการใช้ Support Vector Classifier (SVC)**\n",
        "\n",
        "จากการเปรียบเทียบประสิทธิภาพของ model จะเห็นได้ว่า เมื่อ tune model ตามค่า paraneter ที่กำหนดแล้ว ประสิทธิภาพของ Support Vector Classifier  เพิ่มขึ้นจาก 98.5816% เหลือ 99.0544% คิดเป็นส่วนต่างที่ 0.4728%  ซึ่งถือว่าไม่มีการเปลี่ยนแปลงมากนัก\n"
      ],
      "metadata": {
        "id": "dim5crtshTcP"
      }
    },
    {
      "cell_type": "markdown",
      "source": [
        "#### Cross Validation with Best Parameters Model"
      ],
      "metadata": {
        "id": "Qm-9WT0XCmwA"
      }
    },
    {
      "cell_type": "code",
      "source": [
        "# cross validation 5 folds\n",
        "all_accuracy = cross_val_score(svc_best, X, y, cv=5)\n",
        "print('Mean Accuracy = {:0.4f}%.'.format(all_accuracy.mean()*100))"
      ],
      "metadata": {
        "id": "ymdf6IhJCmwA"
      },
      "execution_count": null,
      "outputs": []
    },
    {
      "cell_type": "markdown",
      "source": [
        "### Logistic Regression"
      ],
      "metadata": {
        "id": "rJcJtNAuCmwA"
      }
    },
    {
      "cell_type": "markdown",
      "source": [
        "#### Baseline model with default parameters"
      ],
      "metadata": {
        "id": "rcDE9HisCmwA"
      }
    },
    {
      "cell_type": "code",
      "source": [
        "# create a based model\n",
        "log = LogisticRegression(random_state=42)"
      ],
      "metadata": {
        "id": "zHVKEEh0CmwA"
      },
      "execution_count": null,
      "outputs": []
    },
    {
      "cell_type": "code",
      "source": [
        "# fit model\n",
        "log.fit(X_train, y_train)"
      ],
      "metadata": {
        "id": "wKKP7mI-CmwA"
      },
      "execution_count": null,
      "outputs": []
    },
    {
      "cell_type": "code",
      "source": [
        "# evaluating model\n",
        "log_predicted = log.predict(X_test)\n",
        "print(classification_report(y_test, log_predicted))\n",
        "print('Accuracy = {:0.4f}%.'.format(accuracy_score(y_test, log_predicted)*100))"
      ],
      "metadata": {
        "id": "ADdPy6PzCmwA"
      },
      "execution_count": null,
      "outputs": []
    },
    {
      "cell_type": "code",
      "source": [
        "# confusion matrix\n",
        "confusion_matrix = metrics.confusion_matrix(y_test, log_predicted)\n",
        "confusion = metrics.ConfusionMatrixDisplay(confusion_matrix = confusion_matrix, display_labels=['business', 'sport', 'technology'])\n",
        "confusion.plot()\n",
        "plt.show()"
      ],
      "metadata": {
        "id": "7u2e4S4UCmwA"
      },
      "execution_count": null,
      "outputs": []
    },
    {
      "cell_type": "markdown",
      "source": [
        "#### Hyperparameter Tuning"
      ],
      "metadata": {
        "id": "kebPsYWgCmwA"
      }
    },
    {
      "cell_type": "code",
      "source": [
        "# create a based model\n",
        "log = LogisticRegression(random_state=42)\n",
        "\n",
        "# create the parameter grid based on the results of random search \n",
        "penalty = ['l2']\n",
        "c_values = [100, 10, 1.0, 0.1, 0.01]\n",
        "cv = RepeatedStratifiedKFold(n_splits=5, random_state=42)\n",
        "param_grid = dict(penalty=penalty,C=c_values)\n",
        "\n",
        "# instantiate the grid search model\n",
        "grid_search = GridSearchCV(estimator=log, param_grid=param_grid, cv=cv)"
      ],
      "metadata": {
        "id": "wAOr-cGjCmwA"
      },
      "execution_count": null,
      "outputs": []
    },
    {
      "cell_type": "code",
      "source": [
        "# fit the grid search to the data\n",
        "grid_result = grid_search.fit(X_train, y_train)"
      ],
      "metadata": {
        "id": "SZjUr5KBCmwA"
      },
      "execution_count": null,
      "outputs": []
    },
    {
      "cell_type": "code",
      "source": [
        "# get best estimator for voting classifier\n",
        "log_best = grid_search.best_estimator_\n",
        "print(grid_search.best_params_)"
      ],
      "metadata": {
        "id": "-KwqRbdwCmwB"
      },
      "execution_count": null,
      "outputs": []
    },
    {
      "cell_type": "code",
      "source": [
        "# evaluating model\n",
        "log_predicted = log_best.predict(X_test)\n",
        "print(classification_report(y_test, log_predicted))\n",
        "print('Accuracy = {:0.4f}%.'.format(accuracy_score(y_test, log_predicted)*100))"
      ],
      "metadata": {
        "id": "6GmLyacECmwB"
      },
      "execution_count": null,
      "outputs": []
    },
    {
      "cell_type": "code",
      "source": [
        "# confusion matrix\n",
        "confusion_matrix = metrics.confusion_matrix(y_test, log_predicted)\n",
        "confusion = metrics.ConfusionMatrixDisplay(confusion_matrix = confusion_matrix, display_labels=['business', 'sport', 'technology'])\n",
        "confusion.plot()\n",
        "plt.show()"
      ],
      "metadata": {
        "id": "NGiXl5-SCmwB"
      },
      "execution_count": null,
      "outputs": []
    },
    {
      "cell_type": "markdown",
      "source": [
        "**เปรียบเทียบประสิทธิภาพของ model**\n",
        "\n",
        "<img src=\"https://drive.google.com/uc?export=view&id=1jZDUXkGVMNsS8uuXyEpydIBCCRXxZduw\" width=\"500\">"
      ],
      "metadata": {
        "id": "1ZWytbL6hgvd"
      }
    },
    {
      "cell_type": "markdown",
      "source": [
        "**สรุปผลการใช้ Logistic Regression**\n",
        "\n",
        "จากการเปรียบเทียบประสิทธิภาพของ model จะเห็นได้ว่า เมื่อ tune model ตามค่า parameter ที่กำหนดแล้ว ประสิทธิภาพของ Support Vector Classifier  เพิ่มขึ้นจาก 98.8180% เหลือ 99.0544% คิดเป็นส่วนต่างที่ 1.4185%   โดยส่วนมากนั้นทำนายในส่วนของประเภทบทความ Technology  ถูกต้องมากยิ่งขึ้น\n"
      ],
      "metadata": {
        "id": "wLZLgEmchjyf"
      }
    },
    {
      "cell_type": "markdown",
      "source": [
        "#### Cross Validation with Best Parameters Model"
      ],
      "metadata": {
        "id": "saDWmLo4CmwB"
      }
    },
    {
      "cell_type": "code",
      "source": [
        "# cross validation 5 folds\n",
        "all_accuracy = cross_val_score(log_best, X, y, cv=5)\n",
        "print('Mean Accuracy = {:0.4f}%.'.format(all_accuracy.mean()*100))"
      ],
      "metadata": {
        "id": "nc8bceaqCmwB"
      },
      "execution_count": null,
      "outputs": []
    },
    {
      "cell_type": "markdown",
      "source": [
        "### All Model Comparison"
      ],
      "metadata": {
        "id": "NyfFnbDKkMsP"
      }
    },
    {
      "cell_type": "markdown",
      "source": [
        "**เปรียบเทียบประสิทธิภาพของทุก model**\n",
        "\n",
        "<img src=\"https://drive.google.com/uc?export=view&id=1AqjS8sCcq3_mGn3O_qLWIougVW7xFKBj\" width=\"500\">\n",
        "\n",
        "จะเห็นได้ว่าโมเดลที่ดีที่สุดคือ Logistic Regression ด้วยเหตุผลเดียวกับตอนที่ใช้เพียง content และ label ในการ train เท่านั้น"
      ],
      "metadata": {
        "id": "WrSHh6ybii6m"
      }
    },
    {
      "cell_type": "markdown",
      "source": [
        "## Content Model and Heading + Content Model Comparison"
      ],
      "metadata": {
        "id": "vfmnfc__jKqw"
      }
    },
    {
      "cell_type": "markdown",
      "source": [
        "**เปรียบเทียบประสิทธิภาพระหว่าง Content Model และ Heading and Content Model ด้วย Cross Validation 5 folds**\n",
        "\n",
        "<img src=\"https://drive.google.com/uc?export=view&id=1ylTdyNFtulonjM0uxbEgbCqUwEss_Asl\" width=\"500\">\n",
        "\n",
        "เมื่อเปรียบเทียบประสิทธิภาพของการ train ที่มี heading และไม่มี heading จะพบว่าไม่มีความต่างในการทำ Classification มากนักใน RandomForest และ Support Vector Classifier (SVC) แต่ใน Logistic Regression มีประสิทธิภาพเพิ่มขึ้นเล็กน้อยเพียง model เดียวเท่านั้น \n",
        "สรุปได้ว่า heading อาจส่งผลให้บาง model นั้นมีประสิทธิภาพดีขึ้นเล็กน้อย เนื่องจาก heading นั้น มีเนื้อหาที่สกัดออกมากได้น้อยกว่า content มาก ดังนั้นจึงมีค่าน้ำน้อย ทำให้ส่งผลต่อ model เล็กน้อยเท่านั้น"
      ],
      "metadata": {
        "id": "dVJtEvH-jbOo"
      }
    }
  ],
  "metadata": {
    "colab": {
      "provenance": [],
      "collapsed_sections": [
        "8LwJlNk0MwNR",
        "ybb3j37z8JLt",
        "MrFsQ-Cb8DYF",
        "ssPqeci98s7t",
        "GYbjDxraWuZK",
        "EG8Mf-LuEXtr",
        "kKAYWZruEgLu",
        "b6fbOV9AElCX",
        "8SUl6KvxgAOb",
        "mP1KhlNWiky6"
      ]
    },
    "kernelspec": {
      "display_name": "Python 3",
      "name": "python3"
    },
    "language_info": {
      "name": "python"
    },
    "gpuClass": "standard"
  },
  "nbformat": 4,
  "nbformat_minor": 0
}